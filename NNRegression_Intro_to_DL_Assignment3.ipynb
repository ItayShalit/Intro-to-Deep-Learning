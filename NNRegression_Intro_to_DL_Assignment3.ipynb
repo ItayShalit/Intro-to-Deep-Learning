{
  "nbformat": 4,
  "nbformat_minor": 0,
  "metadata": {
    "colab": {
      "name": "NNRegression - Intro to DL Assignment3.ipynb",
      "provenance": [],
      "collapsed_sections": [],
      "authorship_tag": "ABX9TyMd2Pm1jZPvap5R8UxC8RAt",
      "include_colab_link": true
    },
    "kernelspec": {
      "name": "python3",
      "display_name": "Python 3"
    },
    "language_info": {
      "name": "python"
    }
  },
  "cells": [
    {
      "cell_type": "markdown",
      "metadata": {
        "id": "view-in-github",
        "colab_type": "text"
      },
      "source": [
        "<a href=\"https://colab.research.google.com/github/ItayShalit/Intro-to-Deep-Learning/blob/main/NNRegression_Intro_to_DL_Assignment3.ipynb\" target=\"_parent\"><img src=\"https://colab.research.google.com/assets/colab-badge.svg\" alt=\"Open In Colab\"/></a>"
      ]
    },
    {
      "cell_type": "code",
      "execution_count": 1,
      "metadata": {
        "id": "D5n1AEP4Mo84"
      },
      "outputs": [],
      "source": [
        "# !pip install --upgrade git+https://github.com/noahgolmant/pytorch-hessian-eigenthings.git@master#egg=hessian-eigenthings\n",
        "# !pip uninstall numpy\n",
        "# !pip install numpy\n",
        "!pip install pyhessian\n",
        "import os\n",
        "import torch\n",
        "from torch import nn\n",
        "import torch.nn.functional as F\n",
        "from torch.utils.data import DataLoader\n",
        "from torchvision import datasets, transforms\n",
        "# from hessian_eigenthings import compute_hessian_eigenthings\n",
        "from pyhessian import hessian\n",
        "os.environ[\"CUDA_DEVICE_ORDER\"]=\"PCI_BUS_ID\"\n",
        "os.environ[\"CUDA_VISIBLE_DEVICES\"]=\"0\"\n",
        "from sklearn.preprocessing import StandardScaler\n",
        "from sklearn.model_selection import train_test_split\n",
        "import pandas as pd\n",
        "import numpy as np\n",
        "import torch.utils.data as data_utils\n",
        "from matplotlib import pyplot as plt\n",
        "from collections import OrderedDict\n",
        "from sklearn.datasets import make_regression\n",
        "from google.colab import files\n",
        "from math import pi, acos\n"
      ]
    },
    {
      "cell_type": "markdown",
      "source": [
        "Data Generation"
      ],
      "metadata": {
        "id": "XTBmcHZBIAus"
      }
    },
    {
      "cell_type": "code",
      "source": [
        "RANDOM_STATE = 10\n",
        "x,y = make_regression(100000, 10, random_state = RANDOM_STATE, noise = 0.1)\n",
        "df = pd.DataFrame(x)\n",
        "df['y'] = y\n",
        "train, test = train_test_split(df, test_size = 0.25, random_state = 10)"
      ],
      "metadata": {
        "id": "v5vezJb3H_gF"
      },
      "execution_count": 2,
      "outputs": []
    },
    {
      "cell_type": "markdown",
      "source": [
        "#Part 2"
      ],
      "metadata": {
        "id": "Vd9oCIUwH4fd"
      }
    },
    {
      "cell_type": "code",
      "source": [
        "batch_size = len(train)\n",
        "\n",
        "test_target = torch.tensor(test['y'].values.astype(np.float32))#\n",
        "test_target = torch.unsqueeze(test_target, dim = 1)\n",
        "train_target = torch.tensor(train['y'].values.astype(np.float32))\n",
        "train_target = torch.unsqueeze(train_target, dim = 1)\n",
        "test = torch.tensor(test.drop('y', axis = 1).values.astype(np.float32))\n",
        "train = torch.tensor(train.drop('y', axis = 1).values.astype(np.float32))\n",
        "\n",
        "train_tensor = data_utils.TensorDataset(train, train_target) \n",
        "train_loader = data_utils.DataLoader(dataset = train_tensor, batch_size = batch_size, shuffle = True)"
      ],
      "metadata": {
        "id": "B-befXEzUyAa"
      },
      "execution_count": 3,
      "outputs": []
    },
    {
      "cell_type": "code",
      "source": [
        "def train_loop(dataloader, model, loss_fn, optimizer):\n",
        "    size = len(dataloader.dataset)\n",
        "    for batch, (X, y) in enumerate(dataloader):\n",
        "        # Compute prediction and loss\n",
        "        pred = model(X)\n",
        "        loss = loss_fn(pred, y)\n",
        "        print(loss)\n",
        "        # Backpropagation\n",
        "        optimizer.zero_grad()\n",
        "        loss.backward()\n",
        "        optimizer.step()\n",
        "\n",
        "        if batch % 100 == 0:\n",
        "            loss, current = loss.item(), batch * len(X)\n",
        "            print(f\"loss: {loss:>7f}  [{current:>5d}/{size:>5d}]\")\n",
        "\n",
        "\n",
        "def test_loop(dataloader, model, loss_fn):\n",
        "    size = len(dataloader.dataset)\n",
        "    num_batches = len(dataloader)\n",
        "    test_loss, correct = 0, 0\n",
        "\n",
        "    with torch.no_grad():\n",
        "        for X, y in dataloader:\n",
        "            pred = model(X)\n",
        "            test_loss += loss_fn(pred, y).item()\n",
        "\n",
        "    test_loss /= num_batches\n",
        "    print(f\"Avg loss: {test_loss:>8f} \\n\")\n",
        "\n",
        "def calculate_gradient_l2_norm(model):\n",
        "    mean_l2_norm = 0\n",
        "    grad_num = 0\n",
        "    for p in list(filter(lambda p: p.grad is not None, model.parameters())):\n",
        "        grad_num += len(p)\n",
        "    for p in list(filter(lambda p: p.grad is not None, model.parameters())):\n",
        "        mean_l2_norm += (p.grad.data.norm(2).item())*(len(p)/grad_num)\n",
        "    return mean_l2_norm\n",
        "\n",
        "def init_weights_normal(model, init_std):\n",
        "  for m in model.modules():\n",
        "    if isinstance(m, nn.Conv2d) or isinstance(m, nn.Linear):\n",
        "      torch.nn.init.normal_(m.weight, mean=0.0, std=init_std)\n",
        "      if m.bias is not None:\n",
        "        torch.nn.init.normal_(m.bias, mean=0.0, std=init_std)"
      ],
      "metadata": {
        "id": "BO1KcYD_O3x5"
      },
      "execution_count": 4,
      "outputs": []
    },
    {
      "cell_type": "code",
      "source": [
        "HIDDEN_SIZE = 16\n",
        "PLOTTING_PARAM = 100\n",
        "\n",
        "\n",
        "\n",
        "class linearRegression(torch.nn.Module):\n",
        "    def __init__(self, depth, inputSize, outputSize, hiddenSize):\n",
        "        super(linearRegression, self).__init__()\n",
        "        # self.bn = torch.nn.BatchNorm1d(num_features=1)\n",
        "        self.layers = nn.ModuleList()\n",
        "        self.layers.append(torch.nn.Linear(inputSize, hiddenSize))\n",
        "        # self.linear2 = torch.nn.Linear(HIDDEN_SIZE, HIDDEN_SIZE)\n",
        "        for i in range(depth-1):\n",
        "          self.layers.append(torch.nn.Linear(hiddenSize, hiddenSize))\n",
        "        self.layers.append(torch.nn.Linear(hiddenSize, outputSize))\n",
        "\n",
        "    def forward(self, inx):\n",
        "        # x = self.bn(inx) # Adding BN to standardize input helps us use a higher learning rate\n",
        "        x = inx\n",
        "        for layer in self.layers:\n",
        "          x = layer(x)\n",
        "        # x = self.linear2(x)\n",
        "        return x\n",
        "\n",
        "\n",
        "epochs = 2000    \n",
        "mseloss = F.mse_loss\n",
        "lr = 10e-7\n",
        "init_std = 10e-1\n",
        "\n",
        "PLOTTING_PARAM = 200\n",
        "device = \"cuda\" if torch.cuda.is_available() else \"cpu\"\n",
        "print(f\"Using {device} device\")\n",
        "\n",
        "test_cpu = test\n",
        "train_cpu = train\n",
        "test_target_cpu = test_target\n",
        "train_target_cpu = train_target\n",
        "\n",
        "for depth in [2,3,4]:\n",
        "  torch.cuda.empty_cache()\n",
        "  test = test_cpu.to(device)\n",
        "  train = train_cpu.to(device)\n",
        "  test_target = test_target_cpu.to(device)\n",
        "  train_target = train_target_cpu.to(device)\n",
        "  loss_values, loss_grad_l2_norm, min_eigenvalues_of_hessian, max_eigenvalues_of_hessian  = [], [], [], []    \n",
        "  model = linearRegression(depth, 10, 1, 16)    \n",
        "  model = model.to(device) \n",
        "  init_weights_normal(model, init_std)\n",
        "  for epoch in range(epochs):\n",
        "      loss_values.append(mseloss(test_target, model(test)))\n",
        "      loss_grad_l2_norm.append(calculate_gradient_l2_norm(model))  \n",
        "      model.train()\n",
        "      optimizer = torch.optim.SGD(model.parameters(), lr=lr, momentum=0)\n",
        "      optimizer.zero_grad()\n",
        "      loss = mseloss(train_target, model(train))  \n",
        "      loss.backward()\n",
        "      optimizer.step()\n",
        "      if epoch%PLOTTING_PARAM == 0:\n",
        "        print(f'epoch {epoch}, loss {loss_values[-1]}, train loss {mseloss(train_target, model(train))}, gradient norm {loss_grad_l2_norm[-1]}')   \n",
        "        eigenvals, eigenvecs = compute_hessian_eigenthings(model, train_loader, mseloss, 2)\n",
        "        min_eigenvalues_of_hessian.append(min(eigenvals))\n",
        "        max_eigenvalues_of_hessian.append(max(eigenvals)) \n",
        "\n",
        "  data = pd.DataFrame()\n",
        "  data['loss'] = pd.Series(torch.tensor(loss_values, device = 'cpu'))\n",
        "  data['loss_grad_norm'] = pd.Series(torch.tensor(loss_grad_l2_norm, device = 'cpu'))\n",
        "  data['min_hessian_eigenvalue'] = pd.Series(torch.tensor(min_eigenvalues_of_hessian, device = 'cpu'))\n",
        "  data['max_hessian_eigenvalue'] = pd.Series(torch.tensor(max_eigenvalues_of_hessian, device = 'cpu'))\n",
        "  data.to_csv(f'training depth {depth} part 2.csv')\n",
        "    "
      ],
      "metadata": {
        "colab": {
          "base_uri": "https://localhost:8080/",
          "height": 252
        },
        "id": "fmybEUZJBadV",
        "outputId": "be025e77-5054-4c98-aea4-ec7733b10e9e"
      },
      "execution_count": null,
      "outputs": [
        {
          "output_type": "stream",
          "name": "stdout",
          "text": [
            "Using cuda device\n"
          ]
        },
        {
          "output_type": "error",
          "ename": "NameError",
          "evalue": "ignored",
          "traceback": [
            "\u001b[0;31m---------------------------------------------------------------------------\u001b[0m",
            "\u001b[0;31mNameError\u001b[0m                                 Traceback (most recent call last)",
            "\u001b[0;32m<ipython-input-5-bce60b188845>\u001b[0m in \u001b[0;36m<module>\u001b[0;34m()\u001b[0m\n\u001b[1;32m     48\u001b[0m   \u001b[0mmodel\u001b[0m \u001b[0;34m=\u001b[0m \u001b[0mlinearRegression\u001b[0m\u001b[0;34m(\u001b[0m\u001b[0mdepth\u001b[0m\u001b[0;34m,\u001b[0m \u001b[0;36m10\u001b[0m\u001b[0;34m,\u001b[0m \u001b[0;36m1\u001b[0m\u001b[0;34m,\u001b[0m \u001b[0;36m16\u001b[0m\u001b[0;34m)\u001b[0m\u001b[0;34m\u001b[0m\u001b[0;34m\u001b[0m\u001b[0m\n\u001b[1;32m     49\u001b[0m   \u001b[0mmodel\u001b[0m \u001b[0;34m=\u001b[0m \u001b[0mmodel\u001b[0m\u001b[0;34m.\u001b[0m\u001b[0mto\u001b[0m\u001b[0;34m(\u001b[0m\u001b[0mdevice\u001b[0m\u001b[0;34m)\u001b[0m\u001b[0;34m\u001b[0m\u001b[0;34m\u001b[0m\u001b[0m\n\u001b[0;32m---> 50\u001b[0;31m   \u001b[0minit_weights_normal\u001b[0m\u001b[0;34m(\u001b[0m\u001b[0mmodel\u001b[0m\u001b[0;34m,\u001b[0m \u001b[0minit_std\u001b[0m\u001b[0;34m)\u001b[0m\u001b[0;34m\u001b[0m\u001b[0;34m\u001b[0m\u001b[0m\n\u001b[0m\u001b[1;32m     51\u001b[0m   \u001b[0;32mfor\u001b[0m \u001b[0mepoch\u001b[0m \u001b[0;32min\u001b[0m \u001b[0mrange\u001b[0m\u001b[0;34m(\u001b[0m\u001b[0mepochs\u001b[0m\u001b[0;34m)\u001b[0m\u001b[0;34m:\u001b[0m\u001b[0;34m\u001b[0m\u001b[0;34m\u001b[0m\u001b[0m\n\u001b[1;32m     52\u001b[0m       \u001b[0mloss_values\u001b[0m\u001b[0;34m.\u001b[0m\u001b[0mappend\u001b[0m\u001b[0;34m(\u001b[0m\u001b[0mmseloss\u001b[0m\u001b[0;34m(\u001b[0m\u001b[0mtest_target\u001b[0m\u001b[0;34m,\u001b[0m \u001b[0mmodel\u001b[0m\u001b[0;34m(\u001b[0m\u001b[0mtest\u001b[0m\u001b[0;34m)\u001b[0m\u001b[0;34m)\u001b[0m\u001b[0;34m)\u001b[0m\u001b[0;34m\u001b[0m\u001b[0;34m\u001b[0m\u001b[0m\n",
            "\u001b[0;31mNameError\u001b[0m: name 'init_weights_normal' is not defined"
          ]
        }
      ]
    },
    {
      "cell_type": "markdown",
      "source": [
        "Experimental Vesrion (Delete Before Handing In)"
      ],
      "metadata": {
        "id": "uE4zfWDoKqI5"
      }
    },
    {
      "cell_type": "code",
      "source": [
        "HIDDEN_SIZE = 16\n",
        "PLOTTING_PARAM = 100\n",
        "\n",
        "class linearRegression(torch.nn.Module):\n",
        "    def __init__(self, depth, inputSize, outputSize, hiddenSize):\n",
        "        super(linearRegression, self).__init__()\n",
        "        # self.bn = torch.nn.BatchNorm1d(num_features=1)\n",
        "        self.layers = nn.ModuleList()\n",
        "        self.layers.append(torch.nn.Linear(inputSize, hiddenSize))\n",
        "        # self.linear2 = torch.nn.Linear(HIDDEN_SIZE, HIDDEN_SIZE)\n",
        "        for i in range(depth-2):\n",
        "          self.layers.append(torch.nn.Linear(hiddenSize, hiddenSize))\n",
        "        self.layers.append(torch.nn.Linear(hiddenSize, outputSize))\n",
        "\n",
        "    def forward(self, inx):\n",
        "        # x = self.bn(inx) # Adding BN to standardize input helps us use a higher learning rate\n",
        "        x = inx\n",
        "        for layer in self.layers:\n",
        "          x = layer(x)\n",
        "        # x = self.linear2(x)\n",
        "        return x\n"
      ],
      "metadata": {
        "id": "bIiHHtu0ssim"
      },
      "execution_count": 5,
      "outputs": []
    },
    {
      "cell_type": "code",
      "source": [
        "device = \"cuda\" if torch.cuda.is_available() else \"cpu\"\n",
        "print(f\"Using {device} device\")"
      ],
      "metadata": {
        "colab": {
          "base_uri": "https://localhost:8080/"
        },
        "id": "6nOb5aYiwVWC",
        "outputId": "7cca0895-4219-4d7e-fd03-36756bea4ec9"
      },
      "execution_count": 9,
      "outputs": [
        {
          "output_type": "stream",
          "name": "stdout",
          "text": [
            "Using cuda device\n"
          ]
        }
      ]
    },
    {
      "cell_type": "code",
      "source": [
        "test_cpu = test\n",
        "train_cpu = train\n",
        "test_target_cpu = test_target\n",
        "train_target_cpu = train_target\n",
        "\n",
        "test = test_cpu.to(device)\n",
        "train = train_cpu.to(device)\n",
        "test_target = test_target_cpu.to(device)\n",
        "train_target = train_target_cpu.to(device)"
      ],
      "metadata": {
        "id": "1pj3omEXwdGX"
      },
      "execution_count": 10,
      "outputs": []
    },
    {
      "cell_type": "code",
      "source": [
        "epochs = 2500    \n",
        "mseloss = F.mse_loss\n",
        "lr = 10e-7\n",
        "init_std = 10e-1\n",
        "\n",
        "#Depth 2: lr, init_std =  10e-5, 10e-1\n",
        "#Depth 3: lr, init_std =  10e-2, 10e-5\n",
        "#Depth 3: lr, init_std =  10e-1, 10e-7\n",
        "# scheduler = torch.optim.lr_scheduler.StepLR(optimizer, step_size=20, gamma=0.1)\n",
        "\n",
        "all_loss_values, all_loss_grad_l2_norm, all_min_eigenvalues_of_hessian, all_max_eigenvalues_of_hessian  = [], [], [], []    \n",
        "PLOTTING_PARAM = 300\n",
        "\n",
        "#Depth 2 net:\n",
        "\n",
        "test_cpu = test\n",
        "train_cpu = train\n",
        "test_target_cpu = test_target\n",
        "train_target_cpu = train_target\n",
        "\n",
        "\n",
        "for depth in [2,3,4]:\n",
        "  torch.cuda.empty_cache()\n",
        "  test = test_cpu.to(device)\n",
        "  train = train_cpu.to(device)\n",
        "  test_target = test_target_cpu.to(device)\n",
        "  train_target = train_target_cpu.to(device)\n",
        "  loss_values, loss_grad_l2_norm, min_eigenvalues_of_hessian, max_eigenvalues_of_hessian  = [], [], [], []    \n",
        "  # train = train.to(device)\n",
        "  # test = test.to(device)\n",
        "  # test_target = test_target.to(device)\n",
        "  # train_target = train_target.to(device)\n",
        "  model = linearRegression(depth, 10, 1, 16)    \n",
        "  model = model.to(device) \n",
        "  init_weights_normal(model, init_std)\n",
        "  for epoch in range(epochs):\n",
        "      loss_values.append(mseloss(test_target, model(test)))\n",
        "      loss_grad_l2_norm.append(calculate_gradient_l2_norm(model))  \n",
        "      model.train()\n",
        "      optimizer = torch.optim.SGD(model.parameters(), lr=lr, momentum = 0)\n",
        "      \n",
        "      # model.to(device)\n",
        "      optimizer.zero_grad()\n",
        "      # outputs = model(train)\n",
        "      # model.eval()\n",
        "      # loss = mseloss(train_target, model(train))\n",
        "      loss = mseloss(train_target, model(train))  \n",
        "      loss.backward()\n",
        "      optimizer.step()\n",
        "      # scheduler.step()\n",
        "      # test.to(device)\n",
        "      if epoch%PLOTTING_PARAM == 0:\n",
        "        print(f'epoch {epoch}, loss {loss_values[-1]}, train loss {mseloss(train_target, model(train))}, gradient norm {loss_grad_l2_norm[-1]}') \n",
        "        hessian_comp = hessian(model, F.mse_loss, data=(train, train_target), cuda=True)\n",
        "        top_eigenvalues, top_eigenvector = hessian_comp.eigenvalues(top_n=15)\n",
        "      #   eigenvals, eigenvecs = compute_hessian_eigenthings(model, train_loader, mseloss, 2)\n",
        "        min_eigenvalues_of_hessian.append(min(top_eigenvalues))\n",
        "        max_eigenvalues_of_hessian.append(max(top_eigenvalues)) \n",
        "      # else:\n",
        "      #   min_eigenvalues_of_hessian.append(min_eigenvalues_of_hessian[-1])\n",
        "      #   max_eigenvalues_of_hessian.append(max_eigenvalues_of_hessian[-1])\n",
        "  data = pd.DataFrame()\n",
        "  data['loss'] = pd.Series(torch.tensor(loss_values, device = 'cpu'))\n",
        "  data['loss_grad_norm'] = pd.Series(torch.tensor(loss_grad_l2_norm, device = 'cpu'))\n",
        "  data['min_hessian_eigenvalue'] = pd.Series(torch.tensor(min_eigenvalues_of_hessian, device = 'cpu'))\n",
        "  data['max_hessian_eigenvalue'] = pd.Series(torch.tensor(max_eigenvalues_of_hessian, device = 'cpu'))\n",
        "\n",
        "\n",
        "  data.to_csv(f'training depth {depth} part 2 ver2.csv')\n",
        "  files.download(f'training depth {depth} part 2 ver2.csv')\n",
        "\n",
        "  # all_loss_values.append(loss_values)\n",
        "  # all_loss_grad_l2_norm.append(loss_grad_l2_norm)\n",
        "  # all_min_eigenvalues_of_hessian.append(min_eigenvalues_of_hessian)\n",
        "  # all_max_eigenvalues_of_hessian.append(max_eigenvalues_of_hessian)\n",
        "  print(f\"finished with depth {depth}\")\n",
        "        "
      ],
      "metadata": {
        "colab": {
          "base_uri": "https://localhost:8080/",
          "height": 538
        },
        "id": "I3GgM7zMJGue",
        "outputId": "4513274f-f0ed-4c4f-c946-615bb41310f1"
      },
      "execution_count": 16,
      "outputs": [
        {
          "output_type": "stream",
          "name": "stdout",
          "text": [
            "epoch 0, loss 17054.158203125, train loss 17168.5703125, gradient norm 0\n",
            "epoch 300, loss 16263.1240234375, train loss 16369.2939453125, gradient norm 568.1406726977403\n",
            "epoch 600, loss 15486.91796875, train loss 15584.9423828125, gradient norm 566.4820063745275\n",
            "epoch 900, loss 14711.4462890625, train loss 14801.3603515625, gradient norm 569.3175849493813\n",
            "epoch 1200, loss 13926.294921875, train loss 14008.09375, gradient norm 575.2652946044416\n",
            "epoch 1500, loss 13124.3935546875, train loss 13198.0771484375, gradient norm 583.017853610656\n",
            "epoch 1800, loss 12301.892578125, train loss 12367.4814453125, gradient norm 591.3515899111243\n",
            "epoch 2100, loss 11458.0634765625, train loss 11515.6337890625, gradient norm 599.1355160211816\n",
            "epoch 2400, loss 10595.2275390625, train loss 10644.931640625, gradient norm 605.4049788025372\n"
          ]
        },
        {
          "output_type": "display_data",
          "data": {
            "text/plain": [
              "<IPython.core.display.Javascript object>"
            ],
            "application/javascript": [
              "\n",
              "    async function download(id, filename, size) {\n",
              "      if (!google.colab.kernel.accessAllowed) {\n",
              "        return;\n",
              "      }\n",
              "      const div = document.createElement('div');\n",
              "      const label = document.createElement('label');\n",
              "      label.textContent = `Downloading \"${filename}\": `;\n",
              "      div.appendChild(label);\n",
              "      const progress = document.createElement('progress');\n",
              "      progress.max = size;\n",
              "      div.appendChild(progress);\n",
              "      document.body.appendChild(div);\n",
              "\n",
              "      const buffers = [];\n",
              "      let downloaded = 0;\n",
              "\n",
              "      const channel = await google.colab.kernel.comms.open(id);\n",
              "      // Send a message to notify the kernel that we're ready.\n",
              "      channel.send({})\n",
              "\n",
              "      for await (const message of channel.messages) {\n",
              "        // Send a message to notify the kernel that we're ready.\n",
              "        channel.send({})\n",
              "        if (message.buffers) {\n",
              "          for (const buffer of message.buffers) {\n",
              "            buffers.push(buffer);\n",
              "            downloaded += buffer.byteLength;\n",
              "            progress.value = downloaded;\n",
              "          }\n",
              "        }\n",
              "      }\n",
              "      const blob = new Blob(buffers, {type: 'application/binary'});\n",
              "      const a = document.createElement('a');\n",
              "      a.href = window.URL.createObjectURL(blob);\n",
              "      a.download = filename;\n",
              "      div.appendChild(a);\n",
              "      a.click();\n",
              "      div.remove();\n",
              "    }\n",
              "  "
            ]
          },
          "metadata": {}
        },
        {
          "output_type": "display_data",
          "data": {
            "text/plain": [
              "<IPython.core.display.Javascript object>"
            ],
            "application/javascript": [
              "download(\"download_433a0d2f-855a-4b7d-a088-ec323ff70720\", \"training depth 2 part 2 ver2.csv\", 64680)"
            ]
          },
          "metadata": {}
        },
        {
          "output_type": "stream",
          "name": "stdout",
          "text": [
            "finished with depth 2\n",
            "epoch 0, loss 16288.4599609375, train loss 16324.47265625, gradient norm 0\n",
            "epoch 300, loss 7712.68701171875, train loss 7732.6640625, gradient norm 1313.43424802838\n",
            "epoch 600, loss 2692.353759765625, train loss 2695.545654296875, gradient norm 1055.7202627586596\n",
            "epoch 900, loss 676.6342163085938, train loss 675.7484741210938, gradient norm 632.889484983502\n",
            "epoch 1200, loss 149.74713134765625, train loss 149.09793090820312, gradient norm 319.56181059461653\n",
            "epoch 1500, loss 33.59741973876953, train loss 33.350154876708984, gradient norm 153.31896658377215\n",
            "epoch 1800, loss 8.03265380859375, train loss 7.951870918273926, gradient norm 73.74623248793863\n",
            "epoch 2100, loss 2.0738489627838135, train loss 2.048388719558716, gradient norm 36.25840040047964\n",
            "epoch 2400, loss 0.5799074172973633, train loss 0.5718531608581543, gradient norm 18.329508284727734\n"
          ]
        },
        {
          "output_type": "display_data",
          "data": {
            "text/plain": [
              "<IPython.core.display.Javascript object>"
            ],
            "application/javascript": [
              "\n",
              "    async function download(id, filename, size) {\n",
              "      if (!google.colab.kernel.accessAllowed) {\n",
              "        return;\n",
              "      }\n",
              "      const div = document.createElement('div');\n",
              "      const label = document.createElement('label');\n",
              "      label.textContent = `Downloading \"${filename}\": `;\n",
              "      div.appendChild(label);\n",
              "      const progress = document.createElement('progress');\n",
              "      progress.max = size;\n",
              "      div.appendChild(progress);\n",
              "      document.body.appendChild(div);\n",
              "\n",
              "      const buffers = [];\n",
              "      let downloaded = 0;\n",
              "\n",
              "      const channel = await google.colab.kernel.comms.open(id);\n",
              "      // Send a message to notify the kernel that we're ready.\n",
              "      channel.send({})\n",
              "\n",
              "      for await (const message of channel.messages) {\n",
              "        // Send a message to notify the kernel that we're ready.\n",
              "        channel.send({})\n",
              "        if (message.buffers) {\n",
              "          for (const buffer of message.buffers) {\n",
              "            buffers.push(buffer);\n",
              "            downloaded += buffer.byteLength;\n",
              "            progress.value = downloaded;\n",
              "          }\n",
              "        }\n",
              "      }\n",
              "      const blob = new Blob(buffers, {type: 'application/binary'});\n",
              "      const a = document.createElement('a');\n",
              "      a.href = window.URL.createObjectURL(blob);\n",
              "      a.download = filename;\n",
              "      div.appendChild(a);\n",
              "      a.click();\n",
              "      div.remove();\n",
              "    }\n",
              "  "
            ]
          },
          "metadata": {}
        },
        {
          "output_type": "display_data",
          "data": {
            "text/plain": [
              "<IPython.core.display.Javascript object>"
            ],
            "application/javascript": [
              "download(\"download_ae153b9f-2b60-491f-8130-13b2103277b8\", \"training depth 3 part 2 ver2.csv\", 65040)"
            ]
          },
          "metadata": {}
        },
        {
          "output_type": "stream",
          "name": "stdout",
          "text": [
            "finished with depth 3\n",
            "epoch 0, loss 37666.3828125, train loss 34412.078125, gradient norm 0\n",
            "epoch 300, loss 42.372215270996094, train loss 42.0629768371582, gradient norm 254.41705756528037\n",
            "epoch 600, loss 0.06684901565313339, train loss 0.06616897881031036, gradient norm 9.069622903016908\n",
            "epoch 900, loss 0.010116113349795341, train loss 0.010073448531329632, gradient norm 0.43257554438041174\n",
            "epoch 1200, loss 0.009982841089367867, train loss 0.009952829219400883, gradient norm 0.06477232801143498\n",
            "epoch 1500, loss 0.009979680180549622, train loss 0.009950871579349041, gradient norm 0.03154043109531571\n",
            "epoch 1800, loss 0.009979412890970707, train loss 0.009950672276318073, gradient norm 0.024364154914165936\n",
            "epoch 2100, loss 0.009979289025068283, train loss 0.009950583800673485, gradient norm 0.0205064126624778\n",
            "epoch 2400, loss 0.009979208931326866, train loss 0.00995055865496397, gradient norm 0.01716754887412226\n"
          ]
        },
        {
          "output_type": "display_data",
          "data": {
            "text/plain": [
              "<IPython.core.display.Javascript object>"
            ],
            "application/javascript": [
              "\n",
              "    async function download(id, filename, size) {\n",
              "      if (!google.colab.kernel.accessAllowed) {\n",
              "        return;\n",
              "      }\n",
              "      const div = document.createElement('div');\n",
              "      const label = document.createElement('label');\n",
              "      label.textContent = `Downloading \"${filename}\": `;\n",
              "      div.appendChild(label);\n",
              "      const progress = document.createElement('progress');\n",
              "      progress.max = size;\n",
              "      div.appendChild(progress);\n",
              "      document.body.appendChild(div);\n",
              "\n",
              "      const buffers = [];\n",
              "      let downloaded = 0;\n",
              "\n",
              "      const channel = await google.colab.kernel.comms.open(id);\n",
              "      // Send a message to notify the kernel that we're ready.\n",
              "      channel.send({})\n",
              "\n",
              "      for await (const message of channel.messages) {\n",
              "        // Send a message to notify the kernel that we're ready.\n",
              "        channel.send({})\n",
              "        if (message.buffers) {\n",
              "          for (const buffer of message.buffers) {\n",
              "            buffers.push(buffer);\n",
              "            downloaded += buffer.byteLength;\n",
              "            progress.value = downloaded;\n",
              "          }\n",
              "        }\n",
              "      }\n",
              "      const blob = new Blob(buffers, {type: 'application/binary'});\n",
              "      const a = document.createElement('a');\n",
              "      a.href = window.URL.createObjectURL(blob);\n",
              "      a.download = filename;\n",
              "      div.appendChild(a);\n",
              "      a.click();\n",
              "      div.remove();\n",
              "    }\n",
              "  "
            ]
          },
          "metadata": {}
        },
        {
          "output_type": "display_data",
          "data": {
            "text/plain": [
              "<IPython.core.display.Javascript object>"
            ],
            "application/javascript": [
              "download(\"download_3751e6df-dd51-442b-8ace-1786304982ca\", \"training depth 4 part 2 ver2.csv\", 72459)"
            ]
          },
          "metadata": {}
        },
        {
          "output_type": "stream",
          "name": "stdout",
          "text": [
            "finished with depth 4\n"
          ]
        }
      ]
    },
    {
      "cell_type": "code",
      "source": [
        "\n",
        "depth2 = pd.read_csv(f'training depth 2 part 2 ver2.csv').iloc[:1500]\n",
        "depth3 = pd.read_csv(f'training depth 3 part 2 ver2.csv').iloc[:1500]\n",
        "depth4 = pd.read_csv(f'training depth 4 part 2 ver2.csv').iloc[:1500]\n",
        "# depth4 = pd.read_csv(f'training depth 4 part 2.csv').iloc[:1500]\n",
        "\n",
        "fig = plt.figure(figsize = (18, 25))\n",
        "ax1 = fig.add_subplot(3, 1, 1)\n",
        "ax2 = fig.add_subplot(3, 1, 2)\n",
        "ax3 = fig.add_subplot(3, 1, 3)\n",
        "\n",
        "ax1.plot([i for i in range(len(depth2))], depth2.loss, label = 'Depth 2')\n",
        "ax1.plot([i for i in range(len(depth3))], depth3.loss, label = 'Depth 3')\n",
        "ax1.plot([i for i in range(len(depth4))], depth4.loss, label = 'Depth 4')\n",
        "ax1.set_xlabel('Epoch')\n",
        "ax1.set_ylabel('L2 Loss')\n",
        "ax1.set_title('Test Loss through Training')\n",
        "ax1.legend()\n",
        "\n",
        "ax2.plot([i for i in range(len(depth2))], depth2.loss_grad_norm, label = 'Depth 2')\n",
        "ax2.plot([i for i in range(len(depth3))], depth3.loss_grad_norm, label = 'Depth 3')\n",
        "ax2.plot([i for i in range(len(depth4))], depth4.loss_grad_norm, label = 'Depth 4')\n",
        "ax2.set_xlabel('Epoch')\n",
        "ax2.set_ylabel('L2-Norm of Gradient')\n",
        "ax2.set_title('Norm of Gradient through Training')\n",
        "ax2.legend()\n",
        "\n",
        "ax3.plot([i for i in range(len(depth2))], depth2.min_hessian_eigenvalue, label = 'Depth 2 Min Eigenvalue')\n",
        "ax3.plot([i for i in range(len(depth3))], depth3.min_hessian_eigenvalue, label = 'Depth 3 Min Eigenvalue')\n",
        "ax3.plot([i for i in range(len(depth4))], depth4.min_hessian_eigenvalue, label = 'Depth 4 Min Eigenvalue')\n",
        "ax3.plot([i for i in range(len(depth2))], depth2.max_hessian_eigenvalue, label = 'Depth 2 Max Eigenvalue')\n",
        "ax3.plot([i for i in range(len(depth3))], depth3.max_hessian_eigenvalue, label = 'Depth 3 Max Eigenvalue')\n",
        "ax3.plot([i for i in range(len(depth4))], depth4.max_hessian_eigenvalue, label = 'Depth 4 Max Eigenvalue')\n",
        "ax3.set_xlabel('Epoch')\n",
        "ax3.set_title('Minimal and Maximal Eigenvalues of Hessian through Training')\n",
        "ax3.legend()"
      ],
      "metadata": {
        "colab": {
          "base_uri": "https://localhost:8080/",
          "height": 1000
        },
        "id": "d3rA53TwPXhb",
        "outputId": "2bf8384b-70fc-49e1-8434-59fec27803df"
      },
      "execution_count": 18,
      "outputs": [
        {
          "output_type": "execute_result",
          "data": {
            "text/plain": [
              "<matplotlib.legend.Legend at 0x7fa7d01af090>"
            ]
          },
          "metadata": {},
          "execution_count": 18
        },
        {
          "output_type": "display_data",
          "data": {
            "text/plain": [
              "<Figure size 1296x1800 with 3 Axes>"
            ],
            "image/png": "[encoded data removed]"
          },
          "metadata": {
            "needs_background": "light"
          }
        }
      ]
    },
    {
      "cell_type": "markdown",
      "source": [
        "# Part 3"
      ],
      "metadata": {
        "id": "3vdfeqoOo8_1"
      }
    },
    {
      "cell_type": "code",
      "source": [
        "train, test = train_test_split(df, test_size = 0.25, random_state = 10)\n",
        "\n",
        "x_train = np.array(train.drop('y', axis = 1))\n",
        "x_test = np.array(test.drop('y', axis = 1))\n",
        "y_train = np.array(train['y'])\n",
        "y_test = np.array(test['y'])\n",
        "\n",
        "inputSize = 10\n",
        "lr = 10e-7\n",
        "epochs = 10000"
      ],
      "metadata": {
        "id": "c6GgQiYDtHCZ"
      },
      "execution_count": null,
      "outputs": []
    },
    {
      "cell_type": "code",
      "source": [
        "from sklearn.metrics import mean_squared_error\n",
        "\n",
        "\n",
        "all_loss_values = []\n",
        "\n",
        "\n",
        "for N in [2,3]:\n",
        "  loss_values = []\n",
        "  w = np.random.normal(0, 10e-1, 10).reshape(-1,1)\n",
        "  for t in range(epochs):  \n",
        "    loss_grad = (np.dot(np.transpose(x_train), np.dot(x_train,w) - y_train.reshape(-1,1)))*(2/(x_train.size))\n",
        "    loss_values.append(mean_squared_error(y_test, np.dot(x_test,w)))\n",
        "    update = np.zeros(w.shape)\n",
        "    u1, s1, v1 = np.linalg.svd(np.dot(w.reshape(-1,1), np.transpose(w.reshape(-1,1))))\n",
        "    u2, s2, v2 = np.linalg.svd(np.dot(np.transpose(w.reshape(-1,1)), w.reshape(-1,1)))\n",
        "    for j in (1, N+1):\n",
        "      s1_exp = np.power(s1, (j-1)/N) \n",
        "      s2_exp = np.power(s2, (N-j)/N)\n",
        "      e1 = np.linalg.multi_dot([u1, np.diag(s1_exp), np.transpose(u1)])\n",
        "      e2 = np.linalg.multi_dot([v2, np.diag(s2_exp), np.transpose(v2)])\n",
        "      \n",
        "      # e1 = np.linalg.multi_dot([u, s, np.transpose(u)])\n",
        "      # e2 = np.linalg.multi_dot([v, s, np.transpose(v)])\n",
        "\n",
        "      update += np.linalg.multi_dot([e1, loss_grad.reshape(-1,1), e2])\n",
        "      # print(update.shape)\n",
        "    # print(\"w shape: \", w.shape)\n",
        "    w = w - lr*update\n",
        "    # print(\"w shape: \", w.shape)\n",
        "  all_loss_values.append(loss_values)\n",
        "    \n",
        "\n",
        "    # e1 = torch.linalg.matrix_power(torch.tensor(np.dot(w.reshape(-1,1), np.transpose(w.reshape(-1,1)))), (j-1)/N)\n",
        "    # e2 = torch.pow(np.dot(np.transpose(w.reshape(-1,1)), w.reshape(-1,1)), (j-1)/N)"
      ],
      "metadata": {
        "id": "uZkTjfwKADG9"
      },
      "execution_count": null,
      "outputs": []
    },
    {
      "cell_type": "code",
      "source": [
        "depth2 = pd.read_csv(f'training depth 2 part 2 ver2.csv')\n",
        "depth3 = pd.read_csv(f'training depth 2 part 2.csv')"
      ],
      "metadata": {
        "id": "IgDlz2jBAAdd"
      },
      "execution_count": null,
      "outputs": []
    },
    {
      "cell_type": "code",
      "source": [
        "fig = plt.figure(figsize = (12,7))\n",
        "ax = fig.add_subplot(1,1,1)\n",
        "ax.plot([i for i in range(len(all_loss_values[0][:2500]))], all_loss_values[0][:2500], label = 'Discrete Updates with Formula N=2')\n",
        "ax.plot([i for i in range(len(all_loss_values[1][:2500]))], all_loss_values[1][:2500], label = 'Discrete Updates with Formula N=3')\n",
        "ax.plot([i for i in range(len(depth2.loss))], depth2.loss, label = 'GD with Linear Network N=2')\n",
        "ax.plot([i for i in range(len(depth3.loss))], depth3.loss, label = 'GD with Linear Network N=3')\n",
        "ax.legend()\n"
      ],
      "metadata": {
        "colab": {
          "base_uri": "https://localhost:8080/",
          "height": 445
        },
        "id": "HJzzUQKrACyG",
        "outputId": "112ad3e8-1299-4f1f-b57a-ad0cf83fee1b"
      },
      "execution_count": null,
      "outputs": [
        {
          "output_type": "execute_result",
          "data": {
            "text/plain": [
              "<matplotlib.legend.Legend at 0x7f9f0406f8d0>"
            ]
          },
          "metadata": {},
          "execution_count": 21
        },
        {
          "output_type": "display_data",
          "data": {
            "text/plain": [
              "<Figure size 864x504 with 1 Axes>"
            ],
            "image/png": "[encoded data removed]"
          },
          "metadata": {
            "needs_background": "light"
          }
        }
      ]
    },
    {
      "cell_type": "markdown",
      "source": [
        "# Part 4"
      ],
      "metadata": {
        "id": "qoy96wsS4R43"
      }
    },
    {
      "cell_type": "code",
      "source": [
        "class TangentKernelNet(torch.nn.Module):\n",
        "    def __init__(self, inputSize, hiddenSize):\n",
        "        super(TangentKernelNet, self).__init__()\n",
        "        self.input_layer = torch.nn.Linear(inputSize, hiddenSize)\n",
        "        torch.nn.init.normal_(self.input_layer.weight, mean = 0.0, std = 1.0)\n",
        "        self.relu = nn.ReLU()\n",
        "        self.output_layer = torch.nn.Linear(hiddenSize, 1)\n",
        "        w = np.ones(hiddenSize)\n",
        "        w[:int(hiddenSize*0.5)] = -1.\n",
        "        np.random.shuffle(w)\n",
        "        self.output_layer.weight = nn.Parameter(torch.tensor(w).type(torch.FloatTensor).reshape(1,-1))\n",
        "\n",
        "    def forward(self, inx):\n",
        "        x = self.input_layer(inx)\n",
        "        x = self.relu(x)\n",
        "        x = self.output_layer(x)\n",
        "        return x"
      ],
      "metadata": {
        "id": "mHf9yAKj4Tz3"
      },
      "execution_count": 3,
      "outputs": []
    },
    {
      "cell_type": "code",
      "source": [
        "RANDOM_STATE = 10\n",
        "\n",
        "x,y = make_regression(1000, 10, random_state = RANDOM_STATE, noise = 0.1) #We use a smaller dataset here for computational reasons.\n",
        "df = pd.DataFrame(x)\n",
        "df['y'] = y\n",
        "\n",
        "train, test = train_test_split(df, test_size = 0.25, random_state = 10)\n",
        "batch_size = len(train)\n",
        "test_target = torch.tensor(test['y'].values.astype(np.float32))#\n",
        "test_target = torch.unsqueeze(test_target, dim = 1)\n",
        "train_target = torch.tensor(train['y'].values.astype(np.float32))\n",
        "train_target = torch.unsqueeze(train_target, dim = 1)\n",
        "test = torch.tensor(test.drop('y', axis = 1).values.astype(np.float32))\n",
        "train = torch.tensor(train.drop('y', axis = 1).values.astype(np.float32))\n",
        "\n",
        "train_tensor = data_utils.TensorDataset(train, train_target) \n",
        "train_loader = data_utils.DataLoader(dataset = train_tensor, batch_size = batch_size, shuffle = True)"
      ],
      "metadata": {
        "id": "wQxMt3J6xFLI"
      },
      "execution_count": 4,
      "outputs": []
    },
    {
      "cell_type": "code",
      "source": [
        "HIDDEN_SIZE = 16\n",
        "PLOTTING_PARAM = 100\n",
        "\n",
        "\n",
        "\n",
        "class linearRegression(torch.nn.Module):\n",
        "    def __init__(self, depth, inputSize, outputSize, hiddenSize):\n",
        "        super(linearRegression, self).__init__()\n",
        "        # self.bn = torch.nn.BatchNorm1d(num_features=1)\n",
        "        self.layers = nn.ModuleList()\n",
        "        self.layers.append(torch.nn.Linear(inputSize, hiddenSize))\n",
        "        # self.linear2 = torch.nn.Linear(HIDDEN_SIZE, HIDDEN_SIZE)\n",
        "        for i in range(depth-1):\n",
        "          self.layers.append(torch.nn.Linear(hiddenSize, hiddenSize))\n",
        "        self.layers.append(torch.nn.Linear(hiddenSize, outputSize))\n",
        "\n",
        "    def forward(self, inx):\n",
        "        # x = self.bn(inx) # Adding BN to standardize input helps us use a higher learning rate\n",
        "        x = inx\n",
        "        for layer in self.layers:\n",
        "          x = layer(x)\n",
        "        # x = self.linear2(x)\n",
        "        return x\n",
        "\n",
        "class TangentKernelNet(torch.nn.Module):\n",
        "    def __init__(self, inputSize, hiddenSize):\n",
        "        super(TangentKernelNet, self).__init__()\n",
        "        self.input_layer = torch.nn.Linear(inputSize, hiddenSize)\n",
        "        torch.nn.init.normal_(self.input_layer.weight, mean = 0.0, std = 1.0)\n",
        "        self.relu = nn.ReLU()\n",
        "        self.output_layer = torch.nn.Linear(hiddenSize, 1)\n",
        "        w = np.ones(hiddenSize)\n",
        "        w[:int(hiddenSize*0.5)] = -1.\n",
        "        np.random.shuffle(w)\n",
        "        self.output_layer.weight = nn.Parameter(torch.tensor(w).type(torch.FloatTensor).reshape(1,-1))\n",
        "\n",
        "    def forward(self, inx):\n",
        "        x = self.input_layer(inx)\n",
        "        x = self.relu(x)\n",
        "        x = self.output_layer(x)\n",
        "        return x\n",
        "\n",
        "\n",
        "epochs = 15000    \n",
        "\n",
        "mseloss = F.mse_loss\n",
        "lr = 10e-7\n",
        "init_std = 10e-1\n",
        "\n",
        "PLOTTING_PARAM = 200\n",
        "device = \"cuda\" if torch.cuda.is_available() else \"cpu\"\n",
        "print(f\"Using {device} device\")\n",
        "\n",
        "test_cpu = test\n",
        "train_cpu = train\n",
        "test_target_cpu = test_target\n",
        "train_target_cpu = train_target\n",
        "\n",
        "# all_loss_values = []\n",
        "\n",
        "widths = [4, 32, 128, 512]\n",
        "widths = [32, 128, 512]\n",
        "widths = [4]\n",
        "\n",
        "for width in widths:\n",
        "  torch.cuda.empty_cache()\n",
        "  test = test_cpu.to(device)\n",
        "  train = train_cpu.to(device)\n",
        "  test_target = test_target_cpu.to(device)\n",
        "  train_target = train_target_cpu.to(device)\n",
        "  loss_values =  []    \n",
        "  # model = linearRegression(depth, 10, 1, 16)    \n",
        "  model = TangentKernelNet(10, width)\n",
        "  model = model.to(device) \n",
        "  for epoch in range(epochs):\n",
        "      loss_values.append(mseloss(test_target, model(test)))\n",
        "      model.train()\n",
        "      optimizer = torch.optim.SGD(model.parameters(), lr=lr, momentum=0)\n",
        "      optimizer.zero_grad()\n",
        "      loss = mseloss(train_target, model(train))  \n",
        "      loss.backward()\n",
        "      optimizer.step()\n",
        "      if epoch%PLOTTING_PARAM == 0:\n",
        "        print(f'epoch {epoch}, loss {loss_values[-1]}')   \n",
        "  all_loss_values.append(loss_values)\n",
        "  # data = pd.DataFrame()\n",
        "  # data['loss'] = pd.Series(torch.tensor(loss_values, device = 'cpu'))\n",
        "  # data.to_csv(f'question 4 width {width}.csv')\n",
        "  # files.download(f'question 4 width {width}.csv')\n"
      ],
      "metadata": {
        "colab": {
          "base_uri": "https://localhost:8080/",
          "height": 1000
        },
        "id": "0JI22pDhk60b",
        "outputId": "a3ef42ba-6664-4ee4-bf42-7c3078b1aaa5"
      },
      "execution_count": 7,
      "outputs": [
        {
          "output_type": "stream",
          "name": "stdout",
          "text": [
            "Using cuda device\n",
            "epoch 0, loss 47571.6953125\n",
            "epoch 200, loss 47517.5546875\n",
            "epoch 400, loss 47464.359375\n",
            "epoch 600, loss 47411.75\n",
            "epoch 800, loss 47359.10546875\n",
            "epoch 1000, loss 47306.71875\n",
            "epoch 1200, loss 47253.69140625\n",
            "epoch 1400, loss 47199.69921875\n",
            "epoch 1600, loss 47144.390625\n",
            "epoch 1800, loss 47087.73046875\n",
            "epoch 2000, loss 47029.69921875\n",
            "epoch 2200, loss 46969.2578125\n",
            "epoch 2400, loss 46905.890625\n",
            "epoch 2600, loss 46839.53125\n",
            "epoch 2800, loss 46770.2421875\n",
            "epoch 3000, loss 46696.77734375\n",
            "epoch 3200, loss 46618.25\n",
            "epoch 3400, loss 46534.23828125\n",
            "epoch 3600, loss 46444.94140625\n",
            "epoch 3800, loss 46349.25\n",
            "epoch 4000, loss 46245.921875\n",
            "epoch 4200, loss 46133.703125\n",
            "epoch 4400, loss 46013.265625\n",
            "epoch 4600, loss 45883.00390625\n",
            "epoch 4800, loss 45742.35546875\n",
            "epoch 5000, loss 45589.546875\n",
            "epoch 5200, loss 45421.11328125\n",
            "epoch 5400, loss 45237.5625\n",
            "epoch 5600, loss 45039.51171875\n",
            "epoch 5800, loss 44825.4609375\n",
            "epoch 6000, loss 44592.31640625\n",
            "epoch 6200, loss 44337.125\n",
            "epoch 6400, loss 44058.9609375\n",
            "epoch 6600, loss 43754.21875\n",
            "epoch 6800, loss 43421.69921875\n",
            "epoch 7000, loss 43061.3203125\n",
            "epoch 7200, loss 42672.7890625\n",
            "epoch 7400, loss 42252.79296875\n",
            "epoch 7600, loss 41797.3671875\n",
            "epoch 7800, loss 41307.00390625\n",
            "epoch 8000, loss 40779.1953125\n",
            "epoch 8200, loss 40214.07421875\n",
            "epoch 8400, loss 39611.52734375\n",
            "epoch 8600, loss 38968.21875\n",
            "epoch 8800, loss 38280.57421875\n",
            "epoch 9000, loss 37544.33203125\n",
            "epoch 9200, loss 36765.203125\n",
            "epoch 9400, loss 35941.546875\n",
            "epoch 9600, loss 35073.9296875\n",
            "epoch 9800, loss 34166.44140625\n",
            "epoch 10000, loss 33221.0078125\n",
            "epoch 10200, loss 32240.3828125\n",
            "epoch 10400, loss 31227.849609375\n",
            "epoch 10600, loss 30185.173828125\n",
            "epoch 10800, loss 29116.521484375\n",
            "epoch 11000, loss 28023.197265625\n",
            "epoch 11200, loss 26911.775390625\n",
            "epoch 11400, loss 25789.0234375\n",
            "epoch 11600, loss 24653.380859375\n",
            "epoch 11800, loss 23514.79296875\n",
            "epoch 12000, loss 22378.576171875\n",
            "epoch 12200, loss 21250.029296875\n",
            "epoch 12400, loss 20133.416015625\n",
            "epoch 12600, loss 19034.810546875\n",
            "epoch 12800, loss 17954.427734375\n",
            "epoch 13000, loss 16895.509765625\n",
            "epoch 13200, loss 15862.8037109375\n",
            "epoch 13400, loss 14857.6689453125\n",
            "epoch 13600, loss 13883.0126953125\n",
            "epoch 13800, loss 12943.353515625\n",
            "epoch 14000, loss 12041.37109375\n",
            "epoch 14200, loss 11178.6708984375\n",
            "epoch 14400, loss 10356.7763671875\n",
            "epoch 14600, loss 9577.1767578125\n",
            "epoch 14800, loss 8840.8671875\n"
          ]
        },
        {
          "output_type": "display_data",
          "data": {
            "text/plain": [
              "<IPython.core.display.Javascript object>"
            ],
            "application/javascript": [
              "\n",
              "    async function download(id, filename, size) {\n",
              "      if (!google.colab.kernel.accessAllowed) {\n",
              "        return;\n",
              "      }\n",
              "      const div = document.createElement('div');\n",
              "      const label = document.createElement('label');\n",
              "      label.textContent = `Downloading \"${filename}\": `;\n",
              "      div.appendChild(label);\n",
              "      const progress = document.createElement('progress');\n",
              "      progress.max = size;\n",
              "      div.appendChild(progress);\n",
              "      document.body.appendChild(div);\n",
              "\n",
              "      const buffers = [];\n",
              "      let downloaded = 0;\n",
              "\n",
              "      const channel = await google.colab.kernel.comms.open(id);\n",
              "      // Send a message to notify the kernel that we're ready.\n",
              "      channel.send({})\n",
              "\n",
              "      for await (const message of channel.messages) {\n",
              "        // Send a message to notify the kernel that we're ready.\n",
              "        channel.send({})\n",
              "        if (message.buffers) {\n",
              "          for (const buffer of message.buffers) {\n",
              "            buffers.push(buffer);\n",
              "            downloaded += buffer.byteLength;\n",
              "            progress.value = downloaded;\n",
              "          }\n",
              "        }\n",
              "      }\n",
              "      const blob = new Blob(buffers, {type: 'application/binary'});\n",
              "      const a = document.createElement('a');\n",
              "      a.href = window.URL.createObjectURL(blob);\n",
              "      a.download = filename;\n",
              "      div.appendChild(a);\n",
              "      a.click();\n",
              "      div.remove();\n",
              "    }\n",
              "  "
            ]
          },
          "metadata": {}
        },
        {
          "output_type": "display_data",
          "data": {
            "text/plain": [
              "<IPython.core.display.Javascript object>"
            ],
            "application/javascript": [
              "download(\"download_b947ec90-24e9-43ff-adc8-183df64d4391\", \"question 4 width 4.csv\", 223175)"
            ]
          },
          "metadata": {}
        }
      ]
    },
    {
      "cell_type": "code",
      "source": [
        "train, test = train_test_split(df, test_size = 0.25, random_state = 10)\n",
        "\n",
        "test_target = np.array(test['y'].values.astype(np.float32))#\n",
        "test_target = np.array(test_target).reshape(-1,1)\n",
        "train_target = np.array(train['y'].values.astype(np.float32))\n",
        "train_target = np.array(train_target).reshape(-1,1)\n",
        "test = np.array(test.drop('y', axis = 1).values.astype(np.float32)).transpose()\n",
        "train = np.array(train.drop('y', axis = 1).values.astype(np.float32)).transpose()\n"
      ],
      "metadata": {
        "id": "TtSTcjC9rF8B"
      },
      "execution_count": 9,
      "outputs": []
    },
    {
      "cell_type": "code",
      "source": [
        "np.random.RandomState(seed=RANDOM_STATE)\n",
        "\n",
        "\n",
        "u = np.random.normal(loc=0.0, scale=0.001, size=train.shape[1]).reshape(train.shape[1], 1)\n",
        "lr = 10e-7\n",
        "epochs = 1500\n",
        "\n",
        "gram = np.dot(train.transpose(), train)\n",
        "norms = np.linalg.norm(train, axis = 0 , ord= 2).reshape(-1,1)\n",
        "norm_products = np.dot(norms, norms.transpose())\n",
        "quotient = np.divide(gram, norm_products)\n",
        "quotient[quotient > 1] = 1.0 #Fixing a problem caused by numerical inaccuracies.\n",
        "h_star = np.dot(gram,(pi - np.arccos(quotient)))/(2*pi)\n",
        "\n",
        "analytic_loss_values = []\n",
        "\n",
        "for i in range(epochs):\n",
        "  analytic_loss_values.append(np.linalg.norm(train_target - u, ord = 2))\n",
        "  u_grad = -np.dot(h_star, u - train_target)\n",
        "  u = u + (u_grad*lr)\n",
        "  if i%15 == 0:\n",
        "    print(f\"epoch: {i}, loss: {analytic_loss_values[-1]}\")\n"
      ],
      "metadata": {
        "colab": {
          "base_uri": "https://localhost:8080/"
        },
        "id": "FeMPFCadrRuH",
        "outputId": "22e05252-8094-41b2-c97c-dcf8842b291d"
      },
      "execution_count": 11,
      "outputs": [
        {
          "output_type": "stream",
          "name": "stdout",
          "text": [
            "epoch: 0, loss: 5451.27317549642\n",
            "epoch: 15, loss: 4781.906451095223\n",
            "epoch: 30, loss: 4199.954198955353\n",
            "epoch: 45, loss: 3693.3436056614755\n",
            "epoch: 60, loss: 3251.7442587461787\n",
            "epoch: 75, loss: 2866.3092697875472\n",
            "epoch: 90, loss: 2529.455442187121\n",
            "epoch: 105, loss: 2234.6765634290023\n",
            "epoch: 120, loss: 1976.384801187223\n",
            "epoch: 135, loss: 1749.775944718778\n",
            "epoch: 150, loss: 1550.7148788378297\n",
            "epoch: 165, loss: 1375.6382253637507\n",
            "epoch: 180, loss: 1221.4715514063676\n",
            "epoch: 195, loss: 1085.558937954746\n",
            "epoch: 210, loss: 965.6030367285416\n",
            "epoch: 225, loss: 859.6140272081122\n",
            "epoch: 240, loss: 765.8661268424961\n",
            "epoch: 255, loss: 682.8605121178412\n",
            "epoch: 270, loss: 609.2936819318909\n",
            "epoch: 285, loss: 544.030442205248\n",
            "epoch: 300, loss: 486.0808158065627\n",
            "epoch: 315, loss: 434.5802880232275\n",
            "epoch: 330, loss: 388.7728878180547\n",
            "epoch: 345, loss: 347.9966813988878\n",
            "epoch: 360, loss: 311.67131925613626\n",
            "epoch: 375, loss: 279.28733255146204\n",
            "epoch: 390, loss: 250.3969210677565\n",
            "epoch: 405, loss: 224.60601413263223\n",
            "epoch: 420, loss: 201.567419091777\n",
            "epoch: 435, loss: 180.97489995943656\n",
            "epoch: 450, loss: 162.55805259717738\n",
            "epoch: 465, loss: 146.0778628366472\n",
            "epoch: 480, loss: 131.3228509337977\n",
            "epoch: 495, loss: 118.10572010112112\n",
            "epoch: 510, loss: 106.26043901738555\n",
            "epoch: 525, loss: 95.63969850497041\n",
            "epoch: 540, loss: 86.11269128373289\n",
            "epoch: 555, loss: 77.56317110266839\n",
            "epoch: 570, loss: 69.88775382337423\n",
            "epoch: 585, loss: 62.9944283569438\n",
            "epoch: 600, loss: 56.801249885379484\n",
            "epoch: 615, loss: 51.23519165371694\n",
            "epoch: 630, loss: 46.23113490402286\n",
            "epoch: 645, loss: 41.730979324993484\n",
            "epoch: 660, loss: 37.68285878488779\n",
            "epoch: 675, loss: 34.040449163111326\n",
            "epoch: 690, loss: 30.762356849219543\n",
            "epoch: 705, loss: 27.81157798144446\n",
            "epoch: 720, loss: 25.15501978708404\n",
            "epoch: 735, loss: 22.763076495396927\n",
            "epoch: 750, loss: 20.60925324624825\n",
            "epoch: 765, loss: 18.669832236744053\n",
            "epoch: 780, loss: 16.923576052167743\n",
            "epoch: 795, loss: 15.35146373255514\n",
            "epoch: 810, loss: 13.93645564593255\n",
            "epoch: 825, loss: 12.663283685700458\n",
            "epoch: 840, loss: 11.518263694055252\n",
            "epoch: 855, loss: 10.489127346653294\n",
            "epoch: 870, loss: 9.564871027400418\n",
            "epoch: 885, loss: 8.735619489002339\n",
            "epoch: 900, loss: 7.992502349209684\n",
            "epoch: 915, loss: 7.327541730770642\n",
            "epoch: 930, loss: 6.733549631858891\n",
            "epoch: 945, loss: 6.204033928063441\n",
            "epoch: 960, loss: 5.733112264861421\n",
            "epoch: 975, loss: 5.31543349500549\n",
            "epoch: 990, loss: 4.946106721350239\n",
            "epoch: 1005, loss: 4.620638369216572\n",
            "epoch: 1020, loss: 4.334877957296327\n",
            "epoch: 1035, loss: 4.084973278347706\n",
            "epoch: 1050, loss: 3.8673354769369626\n",
            "epoch: 1065, loss: 3.6786140121737625\n",
            "epoch: 1080, loss: 3.5156807889625346\n",
            "epoch: 1095, loss: 3.3756219790122253\n",
            "epoch: 1110, loss: 3.2557354199041617\n",
            "epoch: 1125, loss: 3.1535311423170294\n",
            "epoch: 1140, loss: 3.066732616616219\n",
            "epoch: 1155, loss: 2.9932767065453416\n",
            "epoch: 1170, loss: 2.931310953491354\n",
            "epoch: 1185, loss: 2.8791875300463823\n",
            "epoch: 1200, loss: 2.8354538487015866\n",
            "epoch: 1215, loss: 2.7988402934107395\n",
            "epoch: 1230, loss: 2.768245823424413\n",
            "epoch: 1245, loss: 2.7427222962856868\n",
            "epoch: 1260, loss: 2.72145831573288\n",
            "epoch: 1275, loss: 2.703763284380884\n",
            "epoch: 1290, loss: 2.689052178188504\n",
            "epoch: 1305, loss: 2.6768313946773983\n",
            "epoch: 1320, loss: 2.666685880673433\n",
            "epoch: 1335, loss: 2.6582676276623167\n",
            "epoch: 1350, loss: 2.651285535503013\n",
            "epoch: 1365, loss: 2.645496585480344\n",
            "epoch: 1380, loss: 2.6406982266516965\n",
            "epoch: 1395, loss: 2.6367218598462943\n",
            "epoch: 1410, loss: 2.6334272966075507\n",
            "epoch: 1425, loss: 2.6306980717626116\n",
            "epoch: 1440, loss: 2.6284374949919913\n",
            "epoch: 1455, loss: 2.626565336430767\n",
            "epoch: 1470, loss: 2.625015052338586\n",
            "epoch: 1485, loss: 2.6237314681459245\n"
          ]
        }
      ]
    },
    {
      "cell_type": "code",
      "source": [
        "for i in range(len(all_loss_values)):\n",
        "  all_loss_values[i] = torch.tensor(all_loss_values[i]).cpu()\n",
        "fig = plt.figure(figsize = (12,7))\n",
        "ax = fig.add_subplot(1,1,1)\n",
        "ax.plot([i for i in range(len(all_loss_values[3]))], all_loss_values[3], label = 'Width 4')\n",
        "ax.plot([i for i in range(len(all_loss_values[0]))], all_loss_values[0], label = 'Width 32')\n",
        "ax.plot([i for i in range(len(all_loss_values[1]))], all_loss_values[1], label = 'Width 128')\n",
        "ax.plot([i for i in range(len(all_loss_values[2]))], all_loss_values[2], label = 'Width 512')\n",
        "ax.plot([i for i in range(len(analytic_loss_values))], analytic_loss_values, label = 'Analytic Optimization')\n",
        "\n",
        "ax.set_xlabel('Epoch')\n",
        "ax.set_ylabel('MSE Loss')\n",
        "ax.legend()\n"
      ],
      "metadata": {
        "colab": {
          "base_uri": "https://localhost:8080/",
          "height": 514
        },
        "id": "qEvjVMSfE4pJ",
        "outputId": "b9c9c5c5-a595-4cea-9680-2208f915ca3c"
      },
      "execution_count": 15,
      "outputs": [
        {
          "output_type": "stream",
          "name": "stderr",
          "text": [
            "/usr/local/lib/python3.7/dist-packages/ipykernel_launcher.py:2: UserWarning: To copy construct from a tensor, it is recommended to use sourceTensor.clone().detach() or sourceTensor.clone().detach().requires_grad_(True), rather than torch.tensor(sourceTensor).\n",
            "  \n"
          ]
        },
        {
          "output_type": "execute_result",
          "data": {
            "text/plain": [
              "<matplotlib.legend.Legend at 0x7f7c60076f50>"
            ]
          },
          "metadata": {},
          "execution_count": 15
        },
        {
          "output_type": "display_data",
          "data": {
            "text/plain": [
              "<Figure size 864x504 with 1 Axes>"
            ],
            "image/png": "[encoded data removed]"
          },
          "metadata": {
            "needs_background": "light"
          }
        }
      ]
    }
  ]
}