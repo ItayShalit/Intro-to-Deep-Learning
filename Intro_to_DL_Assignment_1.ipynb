{
  "nbformat": 4,
  "nbformat_minor": 0,
  "metadata": {
    "colab": {
      "name": "Intro to DL - Assignment 1.ipynb",
      "provenance": [],
      "collapsed_sections": [],
      "include_colab_link": true
    },
    "kernelspec": {
      "name": "python3",
      "display_name": "Python 3"
    },
    "language_info": {
      "name": "python"
    },
    "widgets": {
      "application/vnd.jupyter.widget-state+json": {
        "71ecb0f145134dd5a15c98b83374ec5b": {
          "model_module": "@jupyter-widgets/controls",
          "model_name": "HBoxModel",
          "model_module_version": "1.5.0",
          "state": {
            "_view_name": "HBoxView",
            "_dom_classes": [],
            "_model_name": "HBoxModel",
            "_view_module": "@jupyter-widgets/controls",
            "_model_module_version": "1.5.0",
            "_view_count": null,
            "_view_module_version": "1.5.0",
            "box_style": "",
            "layout": "IPY_MODEL_3d05531f4c2c4d98bf2a24de45336a9a",
            "_model_module": "@jupyter-widgets/controls",
            "children": [
              "IPY_MODEL_259581067fe04b1c85a92cf2bfbb251c",
              "IPY_MODEL_ebe523916cef4d85b04d365c018b8cd4",
              "IPY_MODEL_546d25dad969430d9ee6769828bf497a"
            ]
          }
        },
        "3d05531f4c2c4d98bf2a24de45336a9a": {
          "model_module": "@jupyter-widgets/base",
          "model_name": "LayoutModel",
          "model_module_version": "1.2.0",
          "state": {
            "_view_name": "LayoutView",
            "grid_template_rows": null,
            "right": null,
            "justify_content": null,
            "_view_module": "@jupyter-widgets/base",
            "overflow": null,
            "_model_module_version": "1.2.0",
            "_view_count": null,
            "flex_flow": null,
            "width": null,
            "min_width": null,
            "border": null,
            "align_items": null,
            "bottom": null,
            "_model_module": "@jupyter-widgets/base",
            "top": null,
            "grid_column": null,
            "overflow_y": null,
            "overflow_x": null,
            "grid_auto_flow": null,
            "grid_area": null,
            "grid_template_columns": null,
            "flex": null,
            "_model_name": "LayoutModel",
            "justify_items": null,
            "grid_row": null,
            "max_height": null,
            "align_content": null,
            "visibility": null,
            "align_self": null,
            "height": null,
            "min_height": null,
            "padding": null,
            "grid_auto_rows": null,
            "grid_gap": null,
            "max_width": null,
            "order": null,
            "_view_module_version": "1.2.0",
            "grid_template_areas": null,
            "object_position": null,
            "object_fit": null,
            "grid_auto_columns": null,
            "margin": null,
            "display": null,
            "left": null
          }
        },
        "259581067fe04b1c85a92cf2bfbb251c": {
          "model_module": "@jupyter-widgets/controls",
          "model_name": "HTMLModel",
          "model_module_version": "1.5.0",
          "state": {
            "_view_name": "HTMLView",
            "style": "IPY_MODEL_f0bb6f60f4174f679e5f9ca4d13e24a7",
            "_dom_classes": [],
            "description": "",
            "_model_name": "HTMLModel",
            "placeholder": "​",
            "_view_module": "@jupyter-widgets/controls",
            "_model_module_version": "1.5.0",
            "value": "",
            "_view_count": null,
            "_view_module_version": "1.5.0",
            "description_tooltip": null,
            "_model_module": "@jupyter-widgets/controls",
            "layout": "IPY_MODEL_679115d7d4194dbba06c7124f53fe1d3"
          }
        },
        "ebe523916cef4d85b04d365c018b8cd4": {
          "model_module": "@jupyter-widgets/controls",
          "model_name": "FloatProgressModel",
          "model_module_version": "1.5.0",
          "state": {
            "_view_name": "ProgressView",
            "style": "IPY_MODEL_120b8f7da3f246f3b90e539e02183df3",
            "_dom_classes": [],
            "description": "",
            "_model_name": "FloatProgressModel",
            "bar_style": "success",
            "max": 170498071,
            "_view_module": "@jupyter-widgets/controls",
            "_model_module_version": "1.5.0",
            "value": 170498071,
            "_view_count": null,
            "_view_module_version": "1.5.0",
            "orientation": "horizontal",
            "min": 0,
            "description_tooltip": null,
            "_model_module": "@jupyter-widgets/controls",
            "layout": "IPY_MODEL_cb4c26105a9a4e1ea4eaae814d3d08f4"
          }
        },
        "546d25dad969430d9ee6769828bf497a": {
          "model_module": "@jupyter-widgets/controls",
          "model_name": "HTMLModel",
          "model_module_version": "1.5.0",
          "state": {
            "_view_name": "HTMLView",
            "style": "IPY_MODEL_f32d88af4ecb48da8048365f667b8f55",
            "_dom_classes": [],
            "description": "",
            "_model_name": "HTMLModel",
            "placeholder": "​",
            "_view_module": "@jupyter-widgets/controls",
            "_model_module_version": "1.5.0",
            "value": " 170499072/? [00:06&lt;00:00, 30039928.98it/s]",
            "_view_count": null,
            "_view_module_version": "1.5.0",
            "description_tooltip": null,
            "_model_module": "@jupyter-widgets/controls",
            "layout": "IPY_MODEL_f08946efbab1484f9df2b0ca61376e70"
          }
        },
        "f0bb6f60f4174f679e5f9ca4d13e24a7": {
          "model_module": "@jupyter-widgets/controls",
          "model_name": "DescriptionStyleModel",
          "model_module_version": "1.5.0",
          "state": {
            "_view_name": "StyleView",
            "_model_name": "DescriptionStyleModel",
            "description_width": "",
            "_view_module": "@jupyter-widgets/base",
            "_model_module_version": "1.5.0",
            "_view_count": null,
            "_view_module_version": "1.2.0",
            "_model_module": "@jupyter-widgets/controls"
          }
        },
        "679115d7d4194dbba06c7124f53fe1d3": {
          "model_module": "@jupyter-widgets/base",
          "model_name": "LayoutModel",
          "model_module_version": "1.2.0",
          "state": {
            "_view_name": "LayoutView",
            "grid_template_rows": null,
            "right": null,
            "justify_content": null,
            "_view_module": "@jupyter-widgets/base",
            "overflow": null,
            "_model_module_version": "1.2.0",
            "_view_count": null,
            "flex_flow": null,
            "width": null,
            "min_width": null,
            "border": null,
            "align_items": null,
            "bottom": null,
            "_model_module": "@jupyter-widgets/base",
            "top": null,
            "grid_column": null,
            "overflow_y": null,
            "overflow_x": null,
            "grid_auto_flow": null,
            "grid_area": null,
            "grid_template_columns": null,
            "flex": null,
            "_model_name": "LayoutModel",
            "justify_items": null,
            "grid_row": null,
            "max_height": null,
            "align_content": null,
            "visibility": null,
            "align_self": null,
            "height": null,
            "min_height": null,
            "padding": null,
            "grid_auto_rows": null,
            "grid_gap": null,
            "max_width": null,
            "order": null,
            "_view_module_version": "1.2.0",
            "grid_template_areas": null,
            "object_position": null,
            "object_fit": null,
            "grid_auto_columns": null,
            "margin": null,
            "display": null,
            "left": null
          }
        },
        "120b8f7da3f246f3b90e539e02183df3": {
          "model_module": "@jupyter-widgets/controls",
          "model_name": "ProgressStyleModel",
          "model_module_version": "1.5.0",
          "state": {
            "_view_name": "StyleView",
            "_model_name": "ProgressStyleModel",
            "description_width": "",
            "_view_module": "@jupyter-widgets/base",
            "_model_module_version": "1.5.0",
            "_view_count": null,
            "_view_module_version": "1.2.0",
            "bar_color": null,
            "_model_module": "@jupyter-widgets/controls"
          }
        },
        "cb4c26105a9a4e1ea4eaae814d3d08f4": {
          "model_module": "@jupyter-widgets/base",
          "model_name": "LayoutModel",
          "model_module_version": "1.2.0",
          "state": {
            "_view_name": "LayoutView",
            "grid_template_rows": null,
            "right": null,
            "justify_content": null,
            "_view_module": "@jupyter-widgets/base",
            "overflow": null,
            "_model_module_version": "1.2.0",
            "_view_count": null,
            "flex_flow": null,
            "width": null,
            "min_width": null,
            "border": null,
            "align_items": null,
            "bottom": null,
            "_model_module": "@jupyter-widgets/base",
            "top": null,
            "grid_column": null,
            "overflow_y": null,
            "overflow_x": null,
            "grid_auto_flow": null,
            "grid_area": null,
            "grid_template_columns": null,
            "flex": null,
            "_model_name": "LayoutModel",
            "justify_items": null,
            "grid_row": null,
            "max_height": null,
            "align_content": null,
            "visibility": null,
            "align_self": null,
            "height": null,
            "min_height": null,
            "padding": null,
            "grid_auto_rows": null,
            "grid_gap": null,
            "max_width": null,
            "order": null,
            "_view_module_version": "1.2.0",
            "grid_template_areas": null,
            "object_position": null,
            "object_fit": null,
            "grid_auto_columns": null,
            "margin": null,
            "display": null,
            "left": null
          }
        },
        "f32d88af4ecb48da8048365f667b8f55": {
          "model_module": "@jupyter-widgets/controls",
          "model_name": "DescriptionStyleModel",
          "model_module_version": "1.5.0",
          "state": {
            "_view_name": "StyleView",
            "_model_name": "DescriptionStyleModel",
            "description_width": "",
            "_view_module": "@jupyter-widgets/base",
            "_model_module_version": "1.5.0",
            "_view_count": null,
            "_view_module_version": "1.2.0",
            "_model_module": "@jupyter-widgets/controls"
          }
        },
        "f08946efbab1484f9df2b0ca61376e70": {
          "model_module": "@jupyter-widgets/base",
          "model_name": "LayoutModel",
          "model_module_version": "1.2.0",
          "state": {
            "_view_name": "LayoutView",
            "grid_template_rows": null,
            "right": null,
            "justify_content": null,
            "_view_module": "@jupyter-widgets/base",
            "overflow": null,
            "_model_module_version": "1.2.0",
            "_view_count": null,
            "flex_flow": null,
            "width": null,
            "min_width": null,
            "border": null,
            "align_items": null,
            "bottom": null,
            "_model_module": "@jupyter-widgets/base",
            "top": null,
            "grid_column": null,
            "overflow_y": null,
            "overflow_x": null,
            "grid_auto_flow": null,
            "grid_area": null,
            "grid_template_columns": null,
            "flex": null,
            "_model_name": "LayoutModel",
            "justify_items": null,
            "grid_row": null,
            "max_height": null,
            "align_content": null,
            "visibility": null,
            "align_self": null,
            "height": null,
            "min_height": null,
            "padding": null,
            "grid_auto_rows": null,
            "grid_gap": null,
            "max_width": null,
            "order": null,
            "_view_module_version": "1.2.0",
            "grid_template_areas": null,
            "object_position": null,
            "object_fit": null,
            "grid_auto_columns": null,
            "margin": null,
            "display": null,
            "left": null
          }
        }
      }
    }
  },
  "cells": [
    {
      "cell_type": "markdown",
      "metadata": {
        "id": "view-in-github",
        "colab_type": "text"
      },
      "source": [
        "<a href=\"https://colab.research.google.com/github/ItayShalit/Intro-to-Deep-Learning/blob/main/Intro_to_DL_Assignment_1.ipynb\" target=\"_parent\"><img src=\"https://colab.research.google.com/assets/colab-badge.svg\" alt=\"Open In Colab\"/></a>"
      ]
    },
    {
      "cell_type": "code",
      "source": [
        "import torch\n",
        "from torch import nn\n",
        "import torchvision\n",
        "import torchvision.transforms as transforms\n",
        "from torchvision.transforms import ToTensor\n",
        "from torch.nn.utils import skip_init\n",
        "from sklearn.svm import SVC\n",
        "from sklearn.metrics import accuracy_score\n",
        "from matplotlib import pyplot as plt\n",
        "import numpy as np\n",
        "from sys import maxsize\n",
        "from sklearn.decomposition import PCA"
      ],
      "metadata": {
        "id": "SzaMzr8YC0AU"
      },
      "execution_count": 24,
      "outputs": []
    },
    {
      "cell_type": "markdown",
      "source": [
        "## Part 1\n"
      ],
      "metadata": {
        "id": "MeIsRnK0hTFG"
      }
    },
    {
      "cell_type": "markdown",
      "source": [
        "### Data Loading"
      ],
      "metadata": {
        "id": "jlH7jA8fYokc"
      }
    },
    {
      "cell_type": "code",
      "source": [
        "TRAIN_SIZE = 5000\n",
        "TEST_SIZE = 1000\n",
        "\n",
        "gen = torch.generator()\n",
        "gen.manual_seed(2022)\n",
        "\n",
        "trainset = torchvision.datasets.CIFAR10(root = './data', train = True, download = True, \n",
        "                                        transform = transforms.ToTensor())\n",
        "sample_train_idx = torch.randint(len(trainset), size=(TRAIN_SIZE,), generator = gen)\n",
        "\n",
        "testset = torchvision.datasets.CIFAR10(root = './data', train = False,\n",
        "                                       download = True, transform = transforms.ToTensor())\n",
        "sample_test_idx = torch.randint(len(testset), size=(TEST_SIZE,), generator = gen)\n"
      ],
      "metadata": {
        "id": "bAj_PERXhjBz",
        "colab": {
          "base_uri": "https://localhost:8080/",
          "height": 101,
          "referenced_widgets": [
            "71ecb0f145134dd5a15c98b83374ec5b",
            "3d05531f4c2c4d98bf2a24de45336a9a",
            "259581067fe04b1c85a92cf2bfbb251c",
            "ebe523916cef4d85b04d365c018b8cd4",
            "546d25dad969430d9ee6769828bf497a",
            "f0bb6f60f4174f679e5f9ca4d13e24a7",
            "679115d7d4194dbba06c7124f53fe1d3",
            "120b8f7da3f246f3b90e539e02183df3",
            "cb4c26105a9a4e1ea4eaae814d3d08f4",
            "f32d88af4ecb48da8048365f667b8f55",
            "f08946efbab1484f9df2b0ca61376e70"
          ]
        },
        "outputId": "05500999-a593-49eb-ba6f-441205b3b448"
      },
      "execution_count": 13,
      "outputs": [
        {
          "output_type": "stream",
          "name": "stdout",
          "text": [
            "Downloading https://www.cs.toronto.edu/~kriz/cifar-10-python.tar.gz to ./data/cifar-10-python.tar.gz\n"
          ]
        },
        {
          "output_type": "display_data",
          "data": {
            "application/vnd.jupyter.widget-view+json": {
              "model_id": "71ecb0f145134dd5a15c98b83374ec5b",
              "version_minor": 0,
              "version_major": 2
            },
            "text/plain": [
              "  0%|          | 0/170498071 [00:00<?, ?it/s]"
            ]
          },
          "metadata": {}
        },
        {
          "output_type": "stream",
          "name": "stdout",
          "text": [
            "Extracting ./data/cifar-10-python.tar.gz to ./data\n",
            "Files already downloaded and verified\n"
          ]
        }
      ]
    },
    {
      "cell_type": "markdown",
      "source": [
        "### Training an SVM Classifier "
      ],
      "metadata": {
        "id": "6Wu62x9vYaIq"
      }
    },
    {
      "cell_type": "code",
      "source": [
        "MAX_INTENSITY = 255\n",
        "\n",
        "train_x = trainset.data/MAX_INTENSITY\n",
        "train_y = trainset.targets\n",
        "\n",
        "test_x = testset.data/MAX_INTENSITY\n",
        "test_y = testset.targets\n",
        "\n",
        "train_x = train_x.reshape(train_x.shape[0], -1)\n",
        "train_x = train_x[sample_train_idx,:]\n",
        "train_y = np.array(train_y)[sample_train_idx]\n",
        "\n",
        "test_x = test_x.reshape(test_x.shape[0], -1)\n",
        "test_x = test_x[sample_test_idx,:]\n",
        "test_y = np.array(test_y)[sample_test_idx]"
      ],
      "metadata": {
        "id": "2uSXgRVlT2ts"
      },
      "execution_count": 15,
      "outputs": []
    },
    {
      "cell_type": "markdown",
      "source": [
        "#### Hyperparameter Tuning"
      ],
      "metadata": {
        "id": "Msm3GyssaTyj"
      }
    },
    {
      "cell_type": "code",
      "source": [
        "param_grid1 = {'C': [0.1,1, 10, 100], 'gamma': [1,0.1,0.01,0.001],'kernel': ['rbf']}\n",
        "param_grid2 = {'C': [0.1,1, 10, 100], 'gamma': [1,0.1,0.01,0.001],'kernel': ['linear']}\n",
        "\n",
        "grid1 = GridSearchCV(SVC(),param_grid1, refit=True, verbose=2, n_jobs = -1)\n",
        "grid2 = GridSearchCV(SVC(),param_grid1, refit=True, verbose=2, n_jobs = -1)\n",
        "\n",
        "grid1.fit(train_x, train_y)\n",
        "grid2.fit(train_x, train_y)"
      ],
      "metadata": {
        "id": "RkneHGP-XyZw"
      },
      "execution_count": null,
      "outputs": []
    },
    {
      "cell_type": "markdown",
      "source": [
        "#### Training the Models"
      ],
      "metadata": {
        "id": "DbwBiEQyaY0a"
      }
    },
    {
      "cell_type": "code",
      "source": [
        "params1 = grid1.best_params_\n",
        "params2 = grid2.best_params_\n",
        "\n",
        "rbf_model = SVC(C = params1[\"C\"], kernel = \"rbf\", gamma = params1[\"gamma\"])\n",
        "linear_model = SVC(C = params2[\"C\"], kernel = \"linear\", gamma = params2[\"gamma\"])\n",
        "\n",
        "rbf_model.fit(train_x, train_y)\n",
        "linear_model.fit(train_x, train_y)\n",
        "\n",
        "test_pred_rbf = rbf_model.predict(test_x)\n",
        "test_pred_linear = linear_model.predict(test_x)\n",
        "\n",
        "print(f\"\"\"accuracy score for linear model is: {accuracy_score(test_y, test_pred_linear)} \\n \n",
        "        accuracy score for rbf model is: {accuracy_score(test_y, test_pred_rbf)}\"\"\")\n"
      ],
      "metadata": {
        "id": "sFv5zFW4P1tr"
      },
      "execution_count": null,
      "outputs": []
    },
    {
      "cell_type": "markdown",
      "source": [
        "## Part 2\n",
        "### Baseline"
      ],
      "metadata": {
        "id": "xZ-Gg2aVC864"
      }
    },
    {
      "cell_type": "code",
      "source": [
        "device = \"cuda\" if torch.cuda.is_available() else \"cpu\"\n",
        "print(f\"Using {device} device\")"
      ],
      "metadata": {
        "id": "FGu3cYcl8hzO"
      },
      "execution_count": null,
      "outputs": []
    },
    {
      "cell_type": "code",
      "source": [
        "class FFNeuralNetwork(nn.Module):\n",
        "    def __init__(self):\n",
        "        super(FFNeuralNetwork, self).__init__()\n",
        "        self.flatten = nn.Flatten()\n",
        "        input_layer = skip_init(nn.Linear, 3072, 256) #To save computations, Parameter initialization is currently skipped, \n",
        "                                                      #and will be done before training using a custom distribution.\n",
        "        hidden_layer = skip_init(nn.Linear, 256, 10)\n",
        "        self.linear_relu_stack = nn.Sequential(\n",
        "            input_layer,\n",
        "            nn.ReLU(),\n",
        "            hidden_layer,\n",
        "        )\n",
        "\n",
        "    def forward(self, x):\n",
        "        x = self.flatten(x)\n",
        "        logits = self.linear_relu_stack(x)\n",
        "        return logits"
      ],
      "metadata": {
        "id": "qaxbyq-jC_Nn",
        "colab": {
          "base_uri": "https://localhost:8080/",
          "height": 235
        },
        "outputId": "882493a6-8de3-415a-e6f9-45e757e38b4d"
      },
      "execution_count": 2,
      "outputs": [
        {
          "output_type": "error",
          "ename": "NameError",
          "evalue": "ignored",
          "traceback": [
            "\u001b[0;31m---------------------------------------------------------------------------\u001b[0m",
            "\u001b[0;31mNameError\u001b[0m                                 Traceback (most recent call last)",
            "\u001b[0;32m<ipython-input-2-68c204138666>\u001b[0m in \u001b[0;36m<module>\u001b[0;34m()\u001b[0m\n\u001b[0;32m----> 1\u001b[0;31m \u001b[0;32mclass\u001b[0m \u001b[0mFFNeuralNetwork\u001b[0m\u001b[0;34m(\u001b[0m\u001b[0mnn\u001b[0m\u001b[0;34m.\u001b[0m\u001b[0mModule\u001b[0m\u001b[0;34m)\u001b[0m\u001b[0;34m:\u001b[0m\u001b[0;34m\u001b[0m\u001b[0;34m\u001b[0m\u001b[0m\n\u001b[0m\u001b[1;32m      2\u001b[0m     \u001b[0;32mdef\u001b[0m \u001b[0m__init__\u001b[0m\u001b[0;34m(\u001b[0m\u001b[0mself\u001b[0m\u001b[0;34m)\u001b[0m\u001b[0;34m:\u001b[0m\u001b[0;34m\u001b[0m\u001b[0;34m\u001b[0m\u001b[0m\n\u001b[1;32m      3\u001b[0m         \u001b[0msuper\u001b[0m\u001b[0;34m(\u001b[0m\u001b[0mFFNeuralNetwork\u001b[0m\u001b[0;34m,\u001b[0m \u001b[0mself\u001b[0m\u001b[0;34m)\u001b[0m\u001b[0;34m.\u001b[0m\u001b[0m__init__\u001b[0m\u001b[0;34m(\u001b[0m\u001b[0;34m)\u001b[0m\u001b[0;34m\u001b[0m\u001b[0;34m\u001b[0m\u001b[0m\n\u001b[1;32m      4\u001b[0m         \u001b[0mself\u001b[0m\u001b[0;34m.\u001b[0m\u001b[0mflatten\u001b[0m \u001b[0;34m=\u001b[0m \u001b[0mnn\u001b[0m\u001b[0;34m.\u001b[0m\u001b[0mFlatten\u001b[0m\u001b[0;34m(\u001b[0m\u001b[0;34m)\u001b[0m\u001b[0;34m\u001b[0m\u001b[0;34m\u001b[0m\u001b[0m\n\u001b[1;32m      5\u001b[0m         \u001b[0minput_layer\u001b[0m \u001b[0;34m=\u001b[0m \u001b[0mskip_init\u001b[0m\u001b[0;34m(\u001b[0m\u001b[0mnn\u001b[0m\u001b[0;34m.\u001b[0m\u001b[0mLinear\u001b[0m\u001b[0;34m,\u001b[0m \u001b[0;36m3072\u001b[0m\u001b[0;34m,\u001b[0m \u001b[0;36m256\u001b[0m\u001b[0;34m)\u001b[0m \u001b[0;31m#To save computations, Parameter initialization is currently skipped,\u001b[0m\u001b[0;34m\u001b[0m\u001b[0;34m\u001b[0m\u001b[0m\n",
            "\u001b[0;31mNameError\u001b[0m: name 'nn' is not defined"
          ]
        }
      ]
    },
    {
      "cell_type": "code",
      "source": [
        "model = FFNeuralNetwork().to(device)\n",
        "print(model)"
      ],
      "metadata": {
        "colab": {
          "base_uri": "https://localhost:8080/"
        },
        "id": "fHSqLjHzDlu6",
        "outputId": "a3486b65-c5dd-42b8-941f-1744107d4233"
      },
      "execution_count": null,
      "outputs": [
        {
          "output_type": "stream",
          "name": "stdout",
          "text": [
            "FFNeuralNetwork(\n",
            "  (flatten): Flatten(start_dim=1, end_dim=-1)\n",
            "  (linear_relu_stack): Sequential(\n",
            "    (0): Linear(in_features=3072, out_features=256, bias=True)\n",
            "    (1): ReLU()\n",
            "    (2): Linear(in_features=256, out_features=10, bias=True)\n",
            "  )\n",
            ")\n"
          ]
        }
      ]
    },
    {
      "cell_type": "code",
      "source": [
        "def train_loop(dataloader, model, loss_fn, optimizer, print_progress = False):\n",
        "    size = len(dataloader.dataset)\n",
        "    for batch, (X, y) in enumerate(dataloader):\n",
        "        # Compute prediction and loss\n",
        "        pred = model(X)\n",
        "        loss = loss_fn(pred, y)\n",
        "\n",
        "        # Backpropagation\n",
        "        optimizer.zero_grad()\n",
        "        loss.backward()\n",
        "        optimizer.step()\n",
        "\n",
        "        if print_progress&(batch % 100 == 0):\n",
        "            loss, current = loss.item(), batch * len(X)\n",
        "            print(f\"loss: {loss:>7f}  [{current:>5d}/{size:>5d}]\")\n",
        "\n",
        "\n",
        "def test_loop(dataloader, model, loss_fn, return_results = False):\n",
        "    size = len(dataloader.dataset)\n",
        "    num_batches = len(dataloader)\n",
        "    test_loss, correct = 0, 0\n",
        "\n",
        "    with torch.no_grad():\n",
        "        for X, y in dataloader:\n",
        "            pred = model(X)\n",
        "            test_loss += loss_fn(pred, y).item()\n",
        "            correct += (pred.argmax(1) == y).type(torch.float).sum().item()\n",
        "\n",
        "    test_loss /= num_batches\n",
        "    correct /= size\n",
        "    print(f\"Test Error: \\n Accuracy: {(100*correct):>0.1f}%, Avg loss: {test_loss:>8f} \\n\")\n",
        "    if return_results:\n",
        "      return test_loss, correct\n",
        "\n",
        "def train_and_plot_results(trainloader, testloader, model, loss_fn, optimizer, epochs, figure = None, plot_results = True, label_addition = ''):\n",
        "  train_accuracy_vals, train_loss_vals, test_accuracy_vals, test_loss_vals = [], [], [], []\n",
        "  for t in range(epochs):\n",
        "      train_loop(trainloader, model, loss_fn, optimizer)\n",
        "      train_loss, train_accuracy = test_loop(trainloader, model, loss_fn, True)\n",
        "      test_loss, test_accuracy = test_loop(testloader, model, loss_fn, True)\n",
        "      train_loss_vals.append(train_loss)\n",
        "      train_accuracy_vals.append(train_accuracy)\n",
        "      test_loss_vals.append(test_loss)\n",
        "      test_accuracy_vals.append(test_accuracy)\n",
        "  if figure == None:\n",
        "    figure = plt.figure(figsize=(1,2))\n",
        "    ax1 = figure.add_subplot(1,2,1)\n",
        "    ax2 = figure.add_subplot(1,2,2) \n",
        "  ax1 = figure.get_axes()[0]\n",
        "  ax2 = figure.get_axes()[1]\n",
        "  line1 = ax1.plot([i for i in range(epochs)], train_accuracy_vals)\n",
        "  line2 = ax1.plot([i for i in range(epochs)], test_accuracy_vals)\n",
        "  line3 = ax2.plot([i for i in range(epochs)], train_loss_vals)\n",
        "  line4 = ax2.plot([i for i in range(epochs)], test_loss_vals)\n",
        "  \n",
        "  line1.set_label('train_accuracy ' + label_addition)\n",
        "  line2.set_label('test_accuracy ' + label_addition)\n",
        "  line3.set_label('train_loss ' + label_addition)\n",
        "  line4.set_label('test_loss  ' + label_addition)\n",
        "  \n",
        "  ax1.legend()\n",
        "  ax2.legend()\n",
        "  if plot_results:\n",
        "    figure.show()"
      ],
      "metadata": {
        "id": "q9CIfOrqDuN2"
      },
      "execution_count": 10,
      "outputs": []
    },
    {
      "cell_type": "markdown",
      "source": [
        "#### Hyperparameter Tuning"
      ],
      "metadata": {
        "id": "xxM6tLtPPrVB"
      }
    },
    {
      "cell_type": "code",
      "source": [
        "\n",
        "learning_rate_vals = [1e-1, 1e-2, 1e-3]\n",
        "init_std_vals = [1e-5, 1e-3, 1e-1]\n",
        "momentum_param_vals = [0.9, 0.95, 0.99] \n",
        "\n",
        "best_loss = maxsize\n",
        "best_configuration = {'learning_rate':None, 'init_std': None, momentum_param: None}\n",
        "\n",
        "loss_fn = nn.CrossEntropyLoss()\n",
        "batch_size = 64\n",
        "epochs = 10\n",
        "\n",
        "trainsubset = torch.utils.data.Subset(trainset, sample_train_idx)\n",
        "testsubset = torch.utils.data.Subset(testset, sample_test_idx)\n",
        "#Should sample the same samples as those I used for training and testing SVM.\n",
        "trainloader = torch.utils.data.DataLoader(trainsubset, batch_size = batch_size,\n",
        "                                          num_workers=2, shuffle = True)\n",
        "testloader = torch.utils.data.DataLoader(testsubset, batch_size = batch_size,\n",
        "                                          num_workers=2, shuffle = True)\n",
        "\n",
        "for learning_rate in learning_rate_vals:\n",
        "  for init_std in init_std_vals:\n",
        "    for momentum_param in momentum_param_vals:\n",
        "      torch.nn.init.normal_(model.input_layer.weight, mean=0.0, std=init_std)\n",
        "      torch.nn.init.normal_(model.hidden_layer.weight, mean=0.0, std=init_std)\n",
        "      optimizer = torch.optim.SGD(model.parameters(), lr=learning_rate, momentum=momentum_param)\n",
        "      for t in range(epochs):\n",
        "        # print(f\"Epoch {t+1}\\n-------------------------------\")\n",
        "        train_loop(train_dataloader, model, loss_fn, optimizer)\n",
        "        # test_loop(test_dataloader, model, loss_fn)\n",
        "      loss, accuracy = test_loop(dataloader, model, loss_fn,  True)\n",
        "      print(\"learning rate: \", learning_rate, \"init_std: \", init_std , \"momentum_param: \", momentum_param, \"loss: \", loss)\n",
        "      if loss<best_loss:\n",
        "        best_loss = loss\n",
        "        best_configuration[\"learning rate\"] = learning_rate\n",
        "        best_configuration[\"momentum_param\"] = momentum_param\n",
        "        best_configuration[\"init_std\"] = init_std\n"
      ],
      "metadata": {
        "colab": {
          "base_uri": "https://localhost:8080/",
          "height": 131
        },
        "id": "SUb9NCj6Puj6",
        "outputId": "2f62764a-e9f2-4402-9f65-6d7fe7721421"
      },
      "execution_count": null,
      "outputs": [
        {
          "output_type": "error",
          "ename": "SyntaxError",
          "evalue": "ignored",
          "traceback": [
            "\u001b[0;36m  File \u001b[0;32m\"<ipython-input-1-46b51b426a63>\"\u001b[0;36m, line \u001b[0;32m13\u001b[0m\n\u001b[0;31m    testloader = torch.utils.data.DataLoader(testset, batch_size = batch_size,\u001b[0m\n\u001b[0m             ^\u001b[0m\n\u001b[0;31mSyntaxError\u001b[0m\u001b[0;31m:\u001b[0m invalid syntax\n"
          ]
        }
      ]
    },
    {
      "cell_type": "markdown",
      "source": [
        "#### Plotting training procces with best configuration"
      ],
      "metadata": {
        "id": "AeDagYK6QEtq"
      }
    },
    {
      "cell_type": "code",
      "source": [
        "torch.nn.init.normal_(model.input_layer.weight, mean=0.0, std=best_configuration.init_std)\n",
        "torch.nn.init.normal_(model.hidden_layer.weight, mean=0.0, std=best_configuration.init_std)\n",
        "optimizer = torch.optim.SGD(model.parameters(), lr=best_configuration[\"learning rate\"], momentum=best_configuration[\"momentum_param\"])\n",
        "train_and_plot_results(trainloader, testloader, model, loss_fn, optimizer, epochs)"
      ],
      "metadata": {
        "id": "Lq9ftOAqESLY"
      },
      "execution_count": null,
      "outputs": []
    },
    {
      "cell_type": "markdown",
      "source": [
        "#### Optimization"
      ],
      "metadata": {
        "id": "rcOdSBN6DbUv"
      }
    },
    {
      "cell_type": "code",
      "source": [
        "torch.nn.init.normal_(model.input_layer.weight, mean=0.0, std=best_configuration.init_std)\n",
        "torch.nn.init.normal_(model.hidden_layer.weight, mean=0.0, std=best_configuration.init_std)\n",
        "optimizer = torch.optim.Adam(model.parameters(), lr=best_configuration[\"learning rate\"], betas=(0.9, 0.999), eps=1e-08, weight_decay=0, amsgrad=False)\n",
        "train_and_plot_results(trainloader, testloader, model, loss_fn, optimizer, epochs)"
      ],
      "metadata": {
        "id": "SPESFoySDdf1"
      },
      "execution_count": null,
      "outputs": []
    },
    {
      "cell_type": "markdown",
      "source": [
        "#### Initialization"
      ],
      "metadata": {
        "id": "LFDvnT4ZFRGV"
      }
    },
    {
      "cell_type": "code",
      "source": [
        "torch.nn.init.xavier_normal_(model.input_layer.weight)\n",
        "torch.nn.init.xavier_normal_(model.input_layer.weight)\n",
        "optimizer = torch.optim.SGD(model.parameters(), lr=best_configuration[\"learning rate\"], momentum=best_configuration[\"momentum_param\"])\n",
        "train_and_plot_results(trainloader, testloader, model, loss_fn, optimizer, epochs)"
      ],
      "metadata": {
        "id": "PMQzG7K0FR8g"
      },
      "execution_count": null,
      "outputs": []
    },
    {
      "cell_type": "markdown",
      "source": [
        "#### Weight Decay"
      ],
      "metadata": {
        "id": "Y6P0E9jeovyy"
      }
    },
    {
      "cell_type": "code",
      "source": [
        "torch.nn.init.normal_(model.input_layer.weight, mean=0.0, std=best_configuration.init_std)\n",
        "torch.nn.init.normal_(model.hidden_layer.weight, mean=0.0, std=best_configuration.init_std)\n",
        "optimizer = torch.optim.SGD(model.parameters(), lr=best_configuration[\"learning rate\"], momentum=best_configuration[\"momentum_param\"], weight_decay=1e-4)\n",
        "train_and_plot_results(trainloader, testloader, model, loss_fn, optimizer, epochs)\n"
      ],
      "metadata": {
        "id": "bFjDCe3rokwo"
      },
      "execution_count": null,
      "outputs": []
    },
    {
      "cell_type": "markdown",
      "source": [
        "#### Dropout"
      ],
      "metadata": {
        "id": "y0SipZn3oy13"
      }
    },
    {
      "cell_type": "code",
      "source": [
        "class FFNeuralNetworkDropout(nn.Module):\n",
        "    def __init__(self):\n",
        "        super(FFNeuralNetwork, self).__init__()\n",
        "        self.flatten = nn.Flatten()\n",
        "        input_layer = skip_init(nn.Linear, 3072, 256) #To save computations, Parameter initialization is currently skipped, \n",
        "                                                      #and will be done before training using a custom distribution.\n",
        "        hidden_layer = skip_init(nn.Linear, 256, 10)\n",
        "        self.dropout = nn.dropout(0.25)\n",
        "        self.linear_relu_stack = nn.Sequential(\n",
        "            input_layer,\n",
        "            nn.dropout(0.25),\n",
        "            nn.ReLU(),\n",
        "            hidden_layer,\n",
        "            nn.dropout(0.25)\n",
        "        )\n",
        "\n",
        "    def forward(self, x):\n",
        "        x = self.flatten(x)\n",
        "        logits = self.linear_relu_stack(x)\n",
        "        return logits"
      ],
      "metadata": {
        "id": "pVb9jM4-qjDt"
      },
      "execution_count": 7,
      "outputs": []
    },
    {
      "cell_type": "code",
      "source": [
        "model = FFNeuralNetworkDropout().to(device)\n",
        "torch.nn.init.normal_(model.input_layer.weight, mean=0.0, std=best_configuration.init_std)\n",
        "torch.nn.init.normal_(model.hidden_layer.weight, mean=0.0, std=best_configuration.init_std)\n",
        "optimizer = torch.optim.SGD(model.parameters(), lr=best_configuration[\"learning rate\"], momentum=best_configuration[\"momentum_param\"], weight_decay=1e-4)\n",
        "train_and_plot_results(trainloader, testloader, model, loss_fn, optimizer, epochs)\n"
      ],
      "metadata": {
        "id": "B8XOE8Pno1j7"
      },
      "execution_count": null,
      "outputs": []
    },
    {
      "cell_type": "markdown",
      "source": [
        "#### PCA Whitening"
      ],
      "metadata": {
        "id": "2bklyyplsrsI"
      }
    },
    {
      "cell_type": "code",
      "source": [
        "class FFNeuralNetwork(nn.Module):\n",
        "    def __init__(self):\n",
        "        super(FFNeuralNetwork, self).__init__()\n",
        "        self.flatten = nn.Flatten()\n",
        "        input_layer = skip_init(nn.Linear, 20, 256) #To save computations, Parameter initialization is currently skipped, \n",
        "                                                      #and will be done before training using a custom distribution.\n",
        "        hidden_layer = skip_init(nn.Linear, 256, 10)\n",
        "        self.linear_relu_stack = nn.Sequential(\n",
        "            input_layer,\n",
        "            nn.ReLU(),\n",
        "            hidden_layer,\n",
        "        )\n",
        "\n",
        "    def forward(self, x):\n",
        "        x = self.flatten(x)\n",
        "        logits = self.linear_relu_stack(x)\n",
        "        return logits\n",
        "\n",
        "pca = PCA(n_components=20, whiten=True, random_state=10)\n",
        "train_x_pca = pca.fit_transform(train_x)\n",
        "test_x_pca = pca.fit_transform(test_x)\n",
        "tensor_trainx = torch.Tensor(train_x_pca)\n",
        "tensor_trainy = torch.Tensor(train_y)\n",
        "tensor_testx = torch.Tensor(test_x_pca)\n",
        "tensor_testy = torch.Tensor(test_y)\n",
        "\n",
        "trainset_pca = torch.utils.data.TensorDataset(tensor_trainx,tensor_trainy)\n",
        "testset_pca = torch.utils.data.TensorDataset(tensor_testx,tensor_testy)\n",
        "\n",
        "trainsubset_pca = torch.utils.data.Subset(trainset_pca, sample_train_idx)\n",
        "testsubset_pca = torch.utils.data.Subset(testset_pca, sample_test_idx)\n",
        "#Should sample the same samples as those I used for training and testing SVM.\n",
        "trainloader_pca = torch.utils.data.DataLoader(trainsubset_pca, batch_size = batch_size,\n",
        "                                          num_workers=2, shuffle = True)\n",
        "testloader_pca = torch.utils.data.DataLoader(testsubset_pca, batch_size = batch_size,\n",
        "                                          num_workers=2, shuffle = True)\n",
        "\n",
        "torch.nn.init.normal_(model.input_layer.weight, mean=0.0, std=best_configuration.init_std)\n",
        "torch.nn.init.normal_(model.hidden_layer.weight, mean=0.0, std=best_configuration.init_std)\n",
        "optimizer = torch.optim.SGD(model.parameters(), lr=best_configuration[\"learning rate\"], momentum=best_configuration[\"momentum_param\"])\n",
        "train_and_plot_results(trainloader_pca, testloader_pca, model, loss_fn, optimizer, epochs)"
      ],
      "metadata": {
        "id": "RAlFO0Assq_g"
      },
      "execution_count": 25,
      "outputs": []
    },
    {
      "cell_type": "markdown",
      "source": [
        "#### Network Width"
      ],
      "metadata": {
        "id": "SLeHCfRTumgV"
      }
    },
    {
      "cell_type": "code",
      "source": [
        "def NNClassGeneratorByWidth(width):\n",
        "  class FFNeuralNetwork(nn.Module):\n",
        "      def __init__(self):\n",
        "          super(FFNeuralNetwork, self).__init__()\n",
        "          self.flatten = nn.Flatten()\n",
        "          input_layer = skip_init(nn.Linear, 3072, width) #To save computations, Parameter initialization is currently skipped, \n",
        "                                                        #and will be done before training using a custom distribution.\n",
        "          hidden_layer = skip_init(nn.Linear, width, 10)\n",
        "          self.linear_relu_stack = nn.Sequential(\n",
        "              input_layer,\n",
        "              nn.ReLU(),\n",
        "              hidden_layer,\n",
        "          )\n",
        "\n",
        "      def forward(self, x):\n",
        "          x = self.flatten(x)\n",
        "          logits = self.linear_relu_stack(x)\n",
        "          return logits\n",
        "  return FFNeuralNetwork\n",
        "\n",
        "figure = plt.figure(figsize=(1,2))\n",
        "ax1 = figure.add_subplot(1,2,1)\n",
        "ax2 = figure.add_subplot(1,2,2) \n",
        "width_vals = [6, 10, 12]\n",
        "\n",
        "for width in width_vals:\n",
        "  NNClass = NNClassGeneratorByWidth(2**width)\n",
        "  model = NNClass().to(device)\n",
        "  torch.nn.init.normal_(model.input_layer.weight, mean=0.0, std=best_configuration.init_std)\n",
        "  torch.nn.init.normal_(model.hidden_layer.weight, mean=0.0, std=best_configuration.init_std)\n",
        "  optimizer = torch.optim.SGD(model.parameters(), lr=best_configuration[\"learning rate\"], momentum=best_configuration[\"momentum_param\"])\n",
        "  train_and_plot_results(trainloader, testloader, model, loss_fn, optimizer, epochs, figure = figure, plot_results = False, label_addition = f'width 2^{width}')\n",
        "\n",
        "figure.show()\n",
        "  "
      ],
      "metadata": {
        "colab": {
          "base_uri": "https://localhost:8080/",
          "height": 379
        },
        "id": "E9uXiuR-vBuq",
        "outputId": "df04cc03-f035-4518-95f7-4fe6af81aba3"
      },
      "execution_count": 11,
      "outputs": [
        {
          "output_type": "error",
          "ename": "NameError",
          "evalue": "ignored",
          "traceback": [
            "\u001b[0;31m---------------------------------------------------------------------------\u001b[0m",
            "\u001b[0;31mNameError\u001b[0m                                 Traceback (most recent call last)",
            "\u001b[0;32m<ipython-input-11-94c5f918291a>\u001b[0m in \u001b[0;36m<module>\u001b[0;34m()\u001b[0m\n\u001b[1;32m     26\u001b[0m \u001b[0;32mfor\u001b[0m \u001b[0mwidth\u001b[0m \u001b[0;32min\u001b[0m \u001b[0mwidth_vals\u001b[0m\u001b[0;34m:\u001b[0m\u001b[0;34m\u001b[0m\u001b[0;34m\u001b[0m\u001b[0m\n\u001b[1;32m     27\u001b[0m   \u001b[0mNNClass\u001b[0m \u001b[0;34m=\u001b[0m \u001b[0mNNClassGeneratorByWidth\u001b[0m\u001b[0;34m(\u001b[0m\u001b[0;36m2\u001b[0m\u001b[0;34m**\u001b[0m\u001b[0mwidth\u001b[0m\u001b[0;34m)\u001b[0m\u001b[0;34m\u001b[0m\u001b[0;34m\u001b[0m\u001b[0m\n\u001b[0;32m---> 28\u001b[0;31m   \u001b[0mmodel\u001b[0m \u001b[0;34m=\u001b[0m \u001b[0mNNClass\u001b[0m\u001b[0;34m(\u001b[0m\u001b[0;34m)\u001b[0m\u001b[0;34m.\u001b[0m\u001b[0mto\u001b[0m\u001b[0;34m(\u001b[0m\u001b[0mdevice\u001b[0m\u001b[0;34m)\u001b[0m\u001b[0;34m\u001b[0m\u001b[0;34m\u001b[0m\u001b[0m\n\u001b[0m\u001b[1;32m     29\u001b[0m   \u001b[0mtorch\u001b[0m\u001b[0;34m.\u001b[0m\u001b[0mnn\u001b[0m\u001b[0;34m.\u001b[0m\u001b[0minit\u001b[0m\u001b[0;34m.\u001b[0m\u001b[0mnormal_\u001b[0m\u001b[0;34m(\u001b[0m\u001b[0mmodel\u001b[0m\u001b[0;34m.\u001b[0m\u001b[0minput_layer\u001b[0m\u001b[0;34m.\u001b[0m\u001b[0mweight\u001b[0m\u001b[0;34m,\u001b[0m \u001b[0mmean\u001b[0m\u001b[0;34m=\u001b[0m\u001b[0;36m0.0\u001b[0m\u001b[0;34m,\u001b[0m \u001b[0mstd\u001b[0m\u001b[0;34m=\u001b[0m\u001b[0mbest_configuration\u001b[0m\u001b[0;34m.\u001b[0m\u001b[0minit_std\u001b[0m\u001b[0;34m)\u001b[0m\u001b[0;34m\u001b[0m\u001b[0;34m\u001b[0m\u001b[0m\n\u001b[1;32m     30\u001b[0m   \u001b[0mtorch\u001b[0m\u001b[0;34m.\u001b[0m\u001b[0mnn\u001b[0m\u001b[0;34m.\u001b[0m\u001b[0minit\u001b[0m\u001b[0;34m.\u001b[0m\u001b[0mnormal_\u001b[0m\u001b[0;34m(\u001b[0m\u001b[0mmodel\u001b[0m\u001b[0;34m.\u001b[0m\u001b[0mhidden_layer\u001b[0m\u001b[0;34m.\u001b[0m\u001b[0mweight\u001b[0m\u001b[0;34m,\u001b[0m \u001b[0mmean\u001b[0m\u001b[0;34m=\u001b[0m\u001b[0;36m0.0\u001b[0m\u001b[0;34m,\u001b[0m \u001b[0mstd\u001b[0m\u001b[0;34m=\u001b[0m\u001b[0mbest_configuration\u001b[0m\u001b[0;34m.\u001b[0m\u001b[0minit_std\u001b[0m\u001b[0;34m)\u001b[0m\u001b[0;34m\u001b[0m\u001b[0;34m\u001b[0m\u001b[0m\n",
            "\u001b[0;31mNameError\u001b[0m: name 'device' is not defined"
          ]
        },
        {
          "output_type": "display_data",
          "data": {
            "image/png": "[encoded data removed]",
            "text/plain": [
              "<Figure size 72x144 with 2 Axes>"
            ]
          },
          "metadata": {
            "needs_background": "light"
          }
        }
      ]
    },
    {
      "cell_type": "markdown",
      "source": [
        "#### Network Depth"
      ],
      "metadata": {
        "id": "tUM23L-jvDyA"
      }
    },
    {
      "cell_type": "code",
      "source": [
        "def NNClassGeneratorByDepth(depth):\n",
        "  class FFNeuralNetwork(nn.Module):\n",
        "      def __init__(self):\n",
        "          super(FFNeuralNetwork, self).__init__()\n",
        "          self.flatten = nn.Flatten()\n",
        "          sequence = [skip_init(nn.Linear, 3072, 64)]\n",
        "          for i in range(depth-1):\n",
        "            sequence.append(nn.ReLU())\n",
        "            sequence.append(skip_init(nn.Linear, 64, 64))\n",
        "          sequence.append(nn.ReLU())\n",
        "          sequence.append(skip_init(nn.Linear, 64, 10))\n",
        "          self.linear_relu_stack = nn.Sequential(sequence)\n",
        "\n",
        "      def forward(self, x):\n",
        "          x = self.flatten(x)\n",
        "          logits = self.linear_relu_stack(x)\n",
        "          return logits\n",
        "  return FFNeuralNetwork\n",
        "\n",
        "\n"
      ],
      "metadata": {
        "id": "APai1Oy1vFCH"
      },
      "execution_count": null,
      "outputs": []
    },
    {
      "cell_type": "code",
      "source": [
        "figure = plt.figure(figsize=(1,2))\n",
        "ax1 = figure.add_subplot(1,2,1)\n",
        "ax2 = figure.add_subplot(1,2,2) \n",
        "depth_vals = [6, 10, 12]\n",
        "\n",
        "for depth in depth_vals:\n",
        "  NNClass = NNClassGeneratorByDepth(depth)\n",
        "  model = NNClass().to(device)\n",
        "  torch.nn.init.normal_(model.input_layer.weight, mean=0.0, std=best_configuration.init_std)\n",
        "  torch.nn.init.normal_(model.hidden_layer.weight, mean=0.0, std=best_configuration.init_std)\n",
        "  optimizer = torch.optim.SGD(model.parameters(), lr=best_configuration[\"learning rate\"], momentum=best_configuration[\"momentum_param\"])\n",
        "  train_and_plot_results(trainloader, testloader, model, loss_fn, optimizer, epochs, figure = figure, plot_results = False, label_addition = f'depth {depth}')\n",
        "\n",
        "figure.show()\n"
      ],
      "metadata": {
        "id": "nlxOor-u25Y4"
      },
      "execution_count": null,
      "outputs": []
    }
  ]
}