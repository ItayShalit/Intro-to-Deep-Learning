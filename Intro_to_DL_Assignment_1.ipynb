{
  "nbformat": 4,
  "nbformat_minor": 0,
  "metadata": {
    "colab": {
      "name": "Intro to DL - Assignment 1.ipynb",
      "provenance": [],
      "collapsed_sections": [],
      "include_colab_link": true
    },
    "kernelspec": {
      "name": "python3",
      "display_name": "Python 3"
    },
    "language_info": {
      "name": "python"
    }
  },
  "cells": [
    {
      "cell_type": "markdown",
      "metadata": {
        "id": "view-in-github",
        "colab_type": "text"
      },
      "source": [
        "<a href=\"https://colab.research.google.com/github/ItayShalit/Intro-to-Deep-Learning/blob/main/Intro_to_DL_Assignment_1.ipynb\" target=\"_parent\"><img src=\"https://colab.research.google.com/assets/colab-badge.svg\" alt=\"Open In Colab\"/></a>"
      ]
    },
    {
      "cell_type": "markdown",
      "source": [
        ""
      ],
      "metadata": {
        "id": "fd8N-TQahhMc"
      }
    },
    {
      "cell_type": "markdown",
      "source": [
        "## Part 1\n"
      ],
      "metadata": {
        "id": "MeIsRnK0hTFG"
      }
    },
    {
      "cell_type": "markdown",
      "source": [
        "### Data Loading"
      ],
      "metadata": {
        "id": "jlH7jA8fYokc"
      }
    },
    {
      "cell_type": "code",
      "source": [
        "import torch\n",
        "import torchvision\n",
        "import torchvision.transforms as transforms\n",
        "from sklearn.svm import SVC\n",
        "from sklearn.metrics import accuracy_score\n",
        "import numpy as np\n",
        "\n",
        "\n",
        "# transform = transforms.Compose(\n",
        "#     [transforms.ToTensor(),\n",
        "#      transforms.Normalize((0.5, 0.5, 0.5), (0.5, 0.5, 0.5))])\n",
        "\n",
        "TRAIN_SIZE = 5000\n",
        "TEST_SIZE = 1000\n",
        "BATCH_SIZE = 4\n",
        "\n",
        "# trainSampler = torch.utils.data.RandomSampler(TRAIN_SIZE)\n",
        "# testSampler = torch.utils.data.RandomSampler(TEST_SIZE)\n",
        "\n",
        "\n",
        "\n",
        "trainset = torchvision.datasets.CIFAR10(root = './data', train = True, download = True, \n",
        "                                        transform = transforms.ToTensor())\n",
        "sample_train_idx = torch.randint(len(trainset), size=(TRAIN_SIZE,))\n",
        "#trainSampler = torch.utils.data.SubsetRandomSampler(indices = sample_train_idx)\n",
        "trainSampler = torch.utils.data.WeightedRandomSampler(weights = [1 for i in range(TRAIN_SIZE)], replacement = True, num_samples = TRAIN_SIZE)\n",
        "\n",
        "# trainloader = torch.utils.data.DataLoader(trainset, batch_size = batch_size,\n",
        "#                                           num_workers=2, shuffle = False, sampler = trainSampler)\n",
        "\n",
        "testset = torchvision.datasets.CIFAR10(root = './data', train = False,\n",
        "                                       download = True, transform = transforms.ToTensor())\n",
        "sample_test_idx = torch.randint(len(trainset), size=(TEST_SIZE,))\n",
        "# testSampler = torch.utils.data.SubsetRandomSampler(indices = sample_test_idx)\n",
        "# testloader = torch.utils.data.DataLoader(testset, batch_size = batch_size,\n",
        "#                                          num_workers = 2, shuffle = True)\n",
        "\n",
        "# classes = ('plane', 'car', 'bird', 'cat',\n",
        "#            'deer', 'dog', 'frog', 'horse', 'ship', 'truck')"
      ],
      "metadata": {
        "id": "bAj_PERXhjBz",
        "colab": {
          "base_uri": "https://localhost:8080/"
        },
        "outputId": "48063ed1-353b-47cf-db82-32392a6a598e"
      },
      "execution_count": 21,
      "outputs": [
        {
          "output_type": "stream",
          "name": "stdout",
          "text": [
            "Files already downloaded and verified\n",
            "Files already downloaded and verified\n"
          ]
        }
      ]
    },
    {
      "cell_type": "markdown",
      "source": [
        "### Training an SVM Classifier "
      ],
      "metadata": {
        "id": "6Wu62x9vYaIq"
      }
    },
    {
      "cell_type": "code",
      "source": [
        "MAX_INTENSITY = 255\n",
        "\n",
        "train_x = trainset.data/MAX_INTENSITY\n",
        "train_y = trainset.targets\n",
        "\n",
        "test_x = testset.data/MAX_INTENSITY\n",
        "test_y = testset.targets\n",
        "\n",
        "train_x = train_x.reshape(train_x.shape[0], -1)\n",
        "train_x = train_x[sample_train_idx,:]\n",
        "train_y = np.array(train_y)[sample_train_idx]\n",
        "\n",
        "test_x = test_x.reshape(test_x.shape[0], -1)\n",
        "test_x = test_x[sample_test_idx,:]\n",
        "test_y = np.array(test_y)[sample_test_idx]"
      ],
      "metadata": {
        "id": "2uSXgRVlT2ts"
      },
      "execution_count": 37,
      "outputs": []
    },
    {
      "cell_type": "markdown",
      "source": [
        "#### Hyperparameter Tuning"
      ],
      "metadata": {
        "id": "Msm3GyssaTyj"
      }
    },
    {
      "cell_type": "code",
      "source": [
        "param_grid1 = {'C': [0.1,1, 10, 100], 'gamma': [1,0.1,0.01,0.001],'kernel': ['rbf']}\n",
        "param_grid2 = {'C': [0.1,1, 10, 100], 'gamma': [1,0.1,0.01,0.001],'kernel': ['linear']}\n",
        "\n",
        "grid1 = GridSearchCV(SVC(),param_grid1, refit=True, verbose=2, n_jobs = -1)\n",
        "grid2 = GridSearchCV(SVC(),param_grid1, refit=True, verbose=2, n_jobs = -1)\n",
        "\n",
        "grid1.fit(train_x, train_y)\n",
        "grid2.fit(train_x, train_y)"
      ],
      "metadata": {
        "id": "RkneHGP-XyZw"
      },
      "execution_count": null,
      "outputs": []
    },
    {
      "cell_type": "markdown",
      "source": [
        "#### Training the Models"
      ],
      "metadata": {
        "id": "DbwBiEQyaY0a"
      }
    },
    {
      "cell_type": "code",
      "source": [
        "params1 = grid1.best_params_\n",
        "params2 = grid2.best_params_\n",
        "\n",
        "rbf_model = SVC(C = params1[\"C\"], kernel = \"rbf\", gamma = params1[\"gamma\"])\n",
        "linear_model = SVC(C = params2[\"C\"], kernel = \"linear\", gamma = params2[\"gamma\"])\n",
        "\n",
        "rbf_model.fit(train_x, train_y)\n",
        "linear_model.fit(train_x, train_y)\n",
        "\n",
        "test_pred_rbf = rbf_model.predict(test_x)\n",
        "test_pred_linear = linear_model.predict(test_x)\n",
        "\n",
        "print(f\"\"\"accuracy score for linear model is: {accuracy_score(test_y, test_pred_linear)} \\n \n",
        "        accuracy score for rbf model is: {accuracy_score(test_y, test_pred_rbf)}\"\"\")\n"
      ],
      "metadata": {
        "id": "sFv5zFW4P1tr"
      },
      "execution_count": null,
      "outputs": []
    },
    {
      "cell_type": "code",
      "source": [
        ""
      ],
      "metadata": {
        "id": "Jc7T2g5VRAnJ"
      },
      "execution_count": null,
      "outputs": []
    }
  ]
}